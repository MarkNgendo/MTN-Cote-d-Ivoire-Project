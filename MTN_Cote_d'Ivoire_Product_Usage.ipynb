{
  "nbformat": 4,
  "nbformat_minor": 0,
  "metadata": {
    "colab": {
      "name": "MTN Cote d'Ivoire Product Usage",
      "provenance": [],
      "collapsed_sections": [],
      "authorship_tag": "ABX9TyNLIvgSUqVppHr3VtWAprgg",
      "include_colab_link": true
    },
    "kernelspec": {
      "name": "python3",
      "display_name": "Python 3"
    },
    "language_info": {
      "name": "python"
    }
  },
  "cells": [
    {
      "cell_type": "markdown",
      "metadata": {
        "id": "view-in-github",
        "colab_type": "text"
      },
      "source": [
        "<a href=\"https://colab.research.google.com/github/MarkNgendo/MTN-Cote-d-Ivoire-Project/blob/main/MTN_Cote_d'Ivoire_Product_Usage.ipynb\" target=\"_parent\"><img src=\"https://colab.research.google.com/assets/colab-badge.svg\" alt=\"Open In Colab\"/></a>"
      ]
    },
    {
      "cell_type": "markdown",
      "metadata": {
        "id": "a9-nRN6kyLRy"
      },
      "source": [
        "## PROBLEM STATEMENT\n"
      ]
    },
    {
      "cell_type": "markdown",
      "metadata": {
        "id": "1lzkYGP6yVnZ"
      },
      "source": [
        "Currently MTN Cote d'Ivoire would like to upgrade its technology infrastructure for its mobile users in Ivory Coast. Studying the given dataset, how does MTN Cote d'Ivoire go about the upgrade of its infrastructure strategy within the given cities?\n",
        "\n",
        "For analysis, the following questions were investigated:\n",
        "\n",
        "Which cities have the highest user traffic based on provided data? Which MTN products are the most frequently used? Which cities bring in the highest profits per product based on provided data? Which are the busiest hours of the day in terms of user traffic?"
      ]
    },
    {
      "cell_type": "markdown",
      "metadata": {
        "id": "RBAMyTFnypIn"
      },
      "source": [
        "## DATA RELEVANCE\n",
        "Below is a list of datasets that we shall be working on:\n",
        "\n",
        "\n",
        "*  cells_geo_description.xlsx\n",
        "*   cells_geo.csv \n",
        "*   CDR_description.xlsx \n",
        "*   CDR 20120507 \n",
        "*   CDR 20120508 \n",
        "*   CDR 20120509 \n",
        "\n",
        "\n",
        "\n",
        "\n",
        "\n",
        "\n",
        "\n",
        "\n"
      ]
    },
    {
      "cell_type": "markdown",
      "metadata": {
        "id": "IiB1fydV3Sh8"
      },
      "source": [
        "## Importing Libraries\n",
        "\n",
        "\n",
        "\n"
      ]
    },
    {
      "cell_type": "code",
      "metadata": {
        "id": "EmnUu2g23t1E"
      },
      "source": [
        "import pandas as pd\n",
        "import numpy as np\n",
        "import matplotlib.pyplot as plt\n",
        "import seaborn as sns"
      ],
      "execution_count": 1,
      "outputs": []
    },
    {
      "cell_type": "markdown",
      "metadata": {
        "id": "QPUjtBVqhfpM"
      },
      "source": [
        "## Loading Datasets"
      ]
    },
    {
      "cell_type": "code",
      "metadata": {
        "colab": {
          "base_uri": "https://localhost:8080/",
          "height": 204
        },
        "id": "Cuf0mq7h5jFf",
        "outputId": "039a0e55-ac79-47d8-88d2-e1a45a8c30c6"
      },
      "source": [
        "cells = pd.read_csv('cells_geo.csv', delimiter=';')\n",
        "cells.head()"
      ],
      "execution_count": 2,
      "outputs": [
        {
          "output_type": "execute_result",
          "data": {
            "text/html": [
              "<div>\n",
              "<style scoped>\n",
              "    .dataframe tbody tr th:only-of-type {\n",
              "        vertical-align: middle;\n",
              "    }\n",
              "\n",
              "    .dataframe tbody tr th {\n",
              "        vertical-align: top;\n",
              "    }\n",
              "\n",
              "    .dataframe thead th {\n",
              "        text-align: right;\n",
              "    }\n",
              "</style>\n",
              "<table border=\"1\" class=\"dataframe\">\n",
              "  <thead>\n",
              "    <tr style=\"text-align: right;\">\n",
              "      <th></th>\n",
              "      <th>Unnamed: 0</th>\n",
              "      <th>VILLES</th>\n",
              "      <th>STATUS</th>\n",
              "      <th>LOCALISATION</th>\n",
              "      <th>DECOUPZONE</th>\n",
              "      <th>ZONENAME</th>\n",
              "      <th>LONGITUDE</th>\n",
              "      <th>LATITUDE</th>\n",
              "      <th>REGION</th>\n",
              "      <th>AREA</th>\n",
              "      <th>CELL_ID</th>\n",
              "      <th>SITE_CODE</th>\n",
              "    </tr>\n",
              "  </thead>\n",
              "  <tbody>\n",
              "    <tr>\n",
              "      <th>0</th>\n",
              "      <td>0</td>\n",
              "      <td>ADJAME</td>\n",
              "      <td>In Service</td>\n",
              "      <td>ABIDJAN</td>\n",
              "      <td>\"Abidjan_EST</td>\n",
              "      <td>AGBANNEW</td>\n",
              "      <td>-4.000667</td>\n",
              "      <td>5.368194</td>\n",
              "      <td>LAGUNE</td>\n",
              "      <td>NaN</td>\n",
              "      <td>fbb2e75af3</td>\n",
              "      <td>0bb492ef17</td>\n",
              "    </tr>\n",
              "    <tr>\n",
              "      <th>1</th>\n",
              "      <td>1</td>\n",
              "      <td>ADJAME</td>\n",
              "      <td>In Service</td>\n",
              "      <td>ABIDJAN</td>\n",
              "      <td>\"Abidjan_EST</td>\n",
              "      <td>AGBANNEW</td>\n",
              "      <td>-4.000667</td>\n",
              "      <td>5.368194</td>\n",
              "      <td>LAGUNE</td>\n",
              "      <td>NaN</td>\n",
              "      <td>1502501d78</td>\n",
              "      <td>0bb492ef17</td>\n",
              "    </tr>\n",
              "    <tr>\n",
              "      <th>2</th>\n",
              "      <td>2</td>\n",
              "      <td>ADJAME</td>\n",
              "      <td>In Service</td>\n",
              "      <td>ABIDJAN</td>\n",
              "      <td>\"Abidjan_EST</td>\n",
              "      <td>AGBANNEW</td>\n",
              "      <td>-4.000667</td>\n",
              "      <td>5.368194</td>\n",
              "      <td>LAGUNE</td>\n",
              "      <td>NaN</td>\n",
              "      <td>0c2e182a0c</td>\n",
              "      <td>0bb492ef17</td>\n",
              "    </tr>\n",
              "    <tr>\n",
              "      <th>3</th>\n",
              "      <td>3</td>\n",
              "      <td>ASSINIE</td>\n",
              "      <td>In Service</td>\n",
              "      <td>INTERIEUR</td>\n",
              "      <td>Grand-EST</td>\n",
              "      <td>ASSINIE\"</td>\n",
              "      <td>-3.488467</td>\n",
              "      <td>5.158761</td>\n",
              "      <td>SUD COMOE</td>\n",
              "      <td>NaN</td>\n",
              "      <td>69bdfc69fd</td>\n",
              "      <td>8a1e6ce31f</td>\n",
              "    </tr>\n",
              "    <tr>\n",
              "      <th>4</th>\n",
              "      <td>4</td>\n",
              "      <td>ASSINIE</td>\n",
              "      <td>In Service</td>\n",
              "      <td>INTERIEUR</td>\n",
              "      <td>Grand-EST</td>\n",
              "      <td>ASSINIE\"</td>\n",
              "      <td>-3.488467</td>\n",
              "      <td>5.158761</td>\n",
              "      <td>SUD COMOE</td>\n",
              "      <td>NaN</td>\n",
              "      <td>7a1029d2ab</td>\n",
              "      <td>8a1e6ce31f</td>\n",
              "    </tr>\n",
              "  </tbody>\n",
              "</table>\n",
              "</div>"
            ],
            "text/plain": [
              "   Unnamed: 0   VILLES      STATUS  ... AREA     CELL_ID   SITE_CODE\n",
              "0           0   ADJAME  In Service  ...  NaN  fbb2e75af3  0bb492ef17\n",
              "1           1   ADJAME  In Service  ...  NaN  1502501d78  0bb492ef17\n",
              "2           2   ADJAME  In Service  ...  NaN  0c2e182a0c  0bb492ef17\n",
              "3           3  ASSINIE  In Service  ...  NaN  69bdfc69fd  8a1e6ce31f\n",
              "4           4  ASSINIE  In Service  ...  NaN  7a1029d2ab  8a1e6ce31f\n",
              "\n",
              "[5 rows x 12 columns]"
            ]
          },
          "metadata": {},
          "execution_count": 2
        }
      ]
    },
    {
      "cell_type": "code",
      "metadata": {
        "colab": {
          "base_uri": "https://localhost:8080/"
        },
        "id": "gh9oWKaA53Ez",
        "outputId": "be611acf-42ce-422c-edda-cb4ef21f6809"
      },
      "source": [
        "geo = pd.read_excel('cells_geo_description.xlsx')\n",
        "geo"
      ],
      "execution_count": null,
      "outputs": [
        {
          "output_type": "execute_result",
          "data": {
            "text/html": [
              "<div>\n",
              "<style scoped>\n",
              "    .dataframe tbody tr th:only-of-type {\n",
              "        vertical-align: middle;\n",
              "    }\n",
              "\n",
              "    .dataframe tbody tr th {\n",
              "        vertical-align: top;\n",
              "    }\n",
              "\n",
              "    .dataframe thead th {\n",
              "        text-align: right;\n",
              "    }\n",
              "</style>\n",
              "<table border=\"1\" class=\"dataframe\">\n",
              "  <thead>\n",
              "    <tr style=\"text-align: right;\">\n",
              "      <th></th>\n",
              "      <th>Column name</th>\n",
              "      <th>Description</th>\n",
              "      <th>Format</th>\n",
              "    </tr>\n",
              "  </thead>\n",
              "  <tbody>\n",
              "    <tr>\n",
              "      <th>0</th>\n",
              "      <td>VILLES</td>\n",
              "      <td>City</td>\n",
              "      <td>String</td>\n",
              "    </tr>\n",
              "    <tr>\n",
              "      <th>1</th>\n",
              "      <td>STATUS</td>\n",
              "      <td>In Service or not</td>\n",
              "      <td>String</td>\n",
              "    </tr>\n",
              "    <tr>\n",
              "      <th>2</th>\n",
              "      <td>LOCALISATION</td>\n",
              "      <td>in ABIDJAN or not</td>\n",
              "      <td>String</td>\n",
              "    </tr>\n",
              "    <tr>\n",
              "      <th>3</th>\n",
              "      <td>DECOUPZONE</td>\n",
              "      <td>Geographical Zone</td>\n",
              "      <td>String</td>\n",
              "    </tr>\n",
              "    <tr>\n",
              "      <th>4</th>\n",
              "      <td>ZONENAME</td>\n",
              "      <td>Name of Zone</td>\n",
              "      <td>String</td>\n",
              "    </tr>\n",
              "    <tr>\n",
              "      <th>5</th>\n",
              "      <td>LONGITUDE</td>\n",
              "      <td>Longitude</td>\n",
              "      <td>Float</td>\n",
              "    </tr>\n",
              "    <tr>\n",
              "      <th>6</th>\n",
              "      <td>LATITUDE</td>\n",
              "      <td>Latitude</td>\n",
              "      <td>Float</td>\n",
              "    </tr>\n",
              "    <tr>\n",
              "      <th>7</th>\n",
              "      <td>REGION</td>\n",
              "      <td>Region</td>\n",
              "      <td>String</td>\n",
              "    </tr>\n",
              "    <tr>\n",
              "      <th>8</th>\n",
              "      <td>AREA</td>\n",
              "      <td>Area</td>\n",
              "      <td>String</td>\n",
              "    </tr>\n",
              "    <tr>\n",
              "      <th>9</th>\n",
              "      <td>CELL_ID</td>\n",
              "      <td>ID of the cell</td>\n",
              "      <td>String</td>\n",
              "    </tr>\n",
              "    <tr>\n",
              "      <th>10</th>\n",
              "      <td>SITE_CODE</td>\n",
              "      <td>Site (there are several cells per site, severa...</td>\n",
              "      <td>String</td>\n",
              "    </tr>\n",
              "  </tbody>\n",
              "</table>\n",
              "</div>"
            ],
            "text/plain": [
              "     Column name                                        Description  Format\n",
              "0         VILLES                                               City  String\n",
              "1         STATUS                                  In Service or not  String\n",
              "2   LOCALISATION                                  in ABIDJAN or not  String\n",
              "3     DECOUPZONE                                  Geographical Zone  String\n",
              "4       ZONENAME                                       Name of Zone  String\n",
              "5      LONGITUDE                                          Longitude   Float\n",
              "6       LATITUDE                                           Latitude   Float\n",
              "7         REGION                                             Region  String\n",
              "8           AREA                                               Area  String\n",
              "9        CELL_ID                                     ID of the cell  String\n",
              "10     SITE_CODE  Site (there are several cells per site, severa...  String"
            ]
          },
          "metadata": {
            "tags": []
          },
          "execution_count": 71
        }
      ]
    },
    {
      "cell_type": "code",
      "metadata": {
        "colab": {
          "base_uri": "https://localhost:8080/"
        },
        "id": "5p03ft_D64Xz",
        "outputId": "06196f82-7bf7-4cd2-be77-5995832eb575"
      },
      "source": [
        "cdr = pd.read_excel('CDR_description.xlsx')\n",
        "cdr"
      ],
      "execution_count": null,
      "outputs": [
        {
          "output_type": "execute_result",
          "data": {
            "text/html": [
              "<div>\n",
              "<style scoped>\n",
              "    .dataframe tbody tr th:only-of-type {\n",
              "        vertical-align: middle;\n",
              "    }\n",
              "\n",
              "    .dataframe tbody tr th {\n",
              "        vertical-align: top;\n",
              "    }\n",
              "\n",
              "    .dataframe thead th {\n",
              "        text-align: right;\n",
              "    }\n",
              "</style>\n",
              "<table border=\"1\" class=\"dataframe\">\n",
              "  <thead>\n",
              "    <tr style=\"text-align: right;\">\n",
              "      <th></th>\n",
              "      <th>Column name</th>\n",
              "      <th>Description</th>\n",
              "      <th>Format</th>\n",
              "    </tr>\n",
              "  </thead>\n",
              "  <tbody>\n",
              "    <tr>\n",
              "      <th>0</th>\n",
              "      <td>PRODUCT</td>\n",
              "      <td>Voice or SMS</td>\n",
              "      <td>String</td>\n",
              "    </tr>\n",
              "    <tr>\n",
              "      <th>1</th>\n",
              "      <td>VALUE</td>\n",
              "      <td>Billing price</td>\n",
              "      <td>Integer</td>\n",
              "    </tr>\n",
              "    <tr>\n",
              "      <th>2</th>\n",
              "      <td>DATE_TIME</td>\n",
              "      <td>Time in format yyyy-MM-dd hh:mm:ss.0</td>\n",
              "      <td>String</td>\n",
              "    </tr>\n",
              "    <tr>\n",
              "      <th>3</th>\n",
              "      <td>CELL_ON_SITE</td>\n",
              "      <td>Which cell in the site was used (not needed here)</td>\n",
              "      <td>Integer</td>\n",
              "    </tr>\n",
              "    <tr>\n",
              "      <th>4</th>\n",
              "      <td>DW_A_NUMBER_INT</td>\n",
              "      <td>Anonymized phone number of the person for whic...</td>\n",
              "      <td>String</td>\n",
              "    </tr>\n",
              "    <tr>\n",
              "      <th>5</th>\n",
              "      <td>DW_B_NUMBER_INT</td>\n",
              "      <td>Anonymized phone number of the counterparty</td>\n",
              "      <td>String</td>\n",
              "    </tr>\n",
              "    <tr>\n",
              "      <th>6</th>\n",
              "      <td>COUNTRY_A</td>\n",
              "      <td>Country of party A (useless here)</td>\n",
              "      <td>String</td>\n",
              "    </tr>\n",
              "    <tr>\n",
              "      <th>7</th>\n",
              "      <td>COUNTRY_B</td>\n",
              "      <td>Country of party B (useless here)</td>\n",
              "      <td>String</td>\n",
              "    </tr>\n",
              "    <tr>\n",
              "      <th>8</th>\n",
              "      <td>CELL_ID</td>\n",
              "      <td>ID of the cell</td>\n",
              "      <td>String</td>\n",
              "    </tr>\n",
              "    <tr>\n",
              "      <th>9</th>\n",
              "      <td>SITE_ID</td>\n",
              "      <td>ID of the SITE</td>\n",
              "      <td>String</td>\n",
              "    </tr>\n",
              "  </tbody>\n",
              "</table>\n",
              "</div>"
            ],
            "text/plain": [
              "       Column name                                        Description   Format\n",
              "0          PRODUCT                                       Voice or SMS   String\n",
              "1            VALUE                                      Billing price  Integer\n",
              "2        DATE_TIME               Time in format yyyy-MM-dd hh:mm:ss.0   String\n",
              "3     CELL_ON_SITE  Which cell in the site was used (not needed here)  Integer\n",
              "4  DW_A_NUMBER_INT  Anonymized phone number of the person for whic...   String\n",
              "5  DW_B_NUMBER_INT        Anonymized phone number of the counterparty   String\n",
              "6        COUNTRY_A                  Country of party A (useless here)   String\n",
              "7        COUNTRY_B                  Country of party B (useless here)   String\n",
              "8          CELL_ID                                     ID of the cell   String\n",
              "9          SITE_ID                                     ID of the SITE   String"
            ]
          },
          "metadata": {
            "tags": []
          },
          "execution_count": 72
        }
      ]
    },
    {
      "cell_type": "code",
      "metadata": {
        "colab": {
          "base_uri": "https://localhost:8080/",
          "height": 204
        },
        "id": "xw-kijr-7DL7",
        "outputId": "43515a41-34d8-40ec-a0e0-eacd4a2e5da2"
      },
      "source": [
        "set1 = pd.read_csv('Telcom_dataset.csv')\n",
        "set1.rename(columns={'PRODUTC': 'PRODUCT'}, inplace=True)\n",
        "set1.head()"
      ],
      "execution_count": 5,
      "outputs": [
        {
          "output_type": "execute_result",
          "data": {
            "text/html": [
              "<div>\n",
              "<style scoped>\n",
              "    .dataframe tbody tr th:only-of-type {\n",
              "        vertical-align: middle;\n",
              "    }\n",
              "\n",
              "    .dataframe tbody tr th {\n",
              "        vertical-align: top;\n",
              "    }\n",
              "\n",
              "    .dataframe thead th {\n",
              "        text-align: right;\n",
              "    }\n",
              "</style>\n",
              "<table border=\"1\" class=\"dataframe\">\n",
              "  <thead>\n",
              "    <tr style=\"text-align: right;\">\n",
              "      <th></th>\n",
              "      <th>PRODUCT</th>\n",
              "      <th>VALUE</th>\n",
              "      <th>DATETIME</th>\n",
              "      <th>CELL_ON_SITE</th>\n",
              "      <th>DW_A_NUMBER_INT</th>\n",
              "      <th>DW_B_NUMBER_INT</th>\n",
              "      <th>COUNTRY_A</th>\n",
              "      <th>COUNTRY_B</th>\n",
              "      <th>CELL_ID</th>\n",
              "      <th>SITE_ID</th>\n",
              "    </tr>\n",
              "  </thead>\n",
              "  <tbody>\n",
              "    <tr>\n",
              "      <th>0</th>\n",
              "      <td>Voice</td>\n",
              "      <td>0</td>\n",
              "      <td>2012-05-06 23:04:37.0</td>\n",
              "      <td>1</td>\n",
              "      <td>49fae048b547780</td>\n",
              "      <td>1a49f8b0ded9de6</td>\n",
              "      <td>19e2e</td>\n",
              "      <td>19e2e</td>\n",
              "      <td>/TJNe+Mmtu</td>\n",
              "      <td>/TJNe+Mmtu</td>\n",
              "    </tr>\n",
              "    <tr>\n",
              "      <th>1</th>\n",
              "      <td>sms</td>\n",
              "      <td>0</td>\n",
              "      <td>2012-05-06 23:05:25.0</td>\n",
              "      <td>0</td>\n",
              "      <td>7a54a6eaee19e65</td>\n",
              "      <td>93343ba6e41af95</td>\n",
              "      <td>19e2e</td>\n",
              "      <td>19e2e</td>\n",
              "      <td>/+cKZKIp41</td>\n",
              "      <td>/+cKZKIp41</td>\n",
              "    </tr>\n",
              "    <tr>\n",
              "      <th>2</th>\n",
              "      <td>sms</td>\n",
              "      <td>25</td>\n",
              "      <td>2012-05-06 23:05:41.0</td>\n",
              "      <td>0</td>\n",
              "      <td>6008887b0207d82</td>\n",
              "      <td>7aacc9709ce0a20</td>\n",
              "      <td>19e2e</td>\n",
              "      <td>19e2e</td>\n",
              "      <td>/u0FSD+ahi</td>\n",
              "      <td>/u0FSD+ahi</td>\n",
              "    </tr>\n",
              "    <tr>\n",
              "      <th>3</th>\n",
              "      <td>Voice</td>\n",
              "      <td>56</td>\n",
              "      <td>2012-05-06 23:05:42.0</td>\n",
              "      <td>1</td>\n",
              "      <td>7370032e20f4e96</td>\n",
              "      <td>6af4a60e74c91d3</td>\n",
              "      <td>19e2e</td>\n",
              "      <td>19e2e</td>\n",
              "      <td>+cNeJzsTp3</td>\n",
              "      <td>+cNeJzsTp3</td>\n",
              "    </tr>\n",
              "    <tr>\n",
              "      <th>4</th>\n",
              "      <td>Voice</td>\n",
              "      <td>14</td>\n",
              "      <td>2012-05-06 23:06:29.0</td>\n",
              "      <td>1</td>\n",
              "      <td>966ba4656e38e62</td>\n",
              "      <td>02aa736ee555d5c</td>\n",
              "      <td>19e2e</td>\n",
              "      <td>19e2e</td>\n",
              "      <td>051KhYDCpv</td>\n",
              "      <td>051KhYDCpv</td>\n",
              "    </tr>\n",
              "  </tbody>\n",
              "</table>\n",
              "</div>"
            ],
            "text/plain": [
              "  PRODUCT  VALUE               DATETIME  ... COUNTRY_B     CELL_ID     SITE_ID\n",
              "0   Voice      0  2012-05-06 23:04:37.0  ...     19e2e  /TJNe+Mmtu  /TJNe+Mmtu\n",
              "1     sms      0  2012-05-06 23:05:25.0  ...     19e2e  /+cKZKIp41  /+cKZKIp41\n",
              "2     sms     25  2012-05-06 23:05:41.0  ...     19e2e  /u0FSD+ahi  /u0FSD+ahi\n",
              "3   Voice     56  2012-05-06 23:05:42.0  ...     19e2e  +cNeJzsTp3  +cNeJzsTp3\n",
              "4   Voice     14  2012-05-06 23:06:29.0  ...     19e2e  051KhYDCpv  051KhYDCpv\n",
              "\n",
              "[5 rows x 10 columns]"
            ]
          },
          "metadata": {},
          "execution_count": 5
        }
      ]
    },
    {
      "cell_type": "code",
      "metadata": {
        "colab": {
          "base_uri": "https://localhost:8080/",
          "height": 204
        },
        "id": "cRP73owO7OOB",
        "outputId": "1dfb06d1-d105-41c4-cd21-2d302dd6ab86"
      },
      "source": [
        "set2 = pd.read_csv('Telcom_dataset2.csv')\n",
        "set2.head()"
      ],
      "execution_count": 4,
      "outputs": [
        {
          "output_type": "execute_result",
          "data": {
            "text/html": [
              "<div>\n",
              "<style scoped>\n",
              "    .dataframe tbody tr th:only-of-type {\n",
              "        vertical-align: middle;\n",
              "    }\n",
              "\n",
              "    .dataframe tbody tr th {\n",
              "        vertical-align: top;\n",
              "    }\n",
              "\n",
              "    .dataframe thead th {\n",
              "        text-align: right;\n",
              "    }\n",
              "</style>\n",
              "<table border=\"1\" class=\"dataframe\">\n",
              "  <thead>\n",
              "    <tr style=\"text-align: right;\">\n",
              "      <th></th>\n",
              "      <th>PRODUCT</th>\n",
              "      <th>VALUE</th>\n",
              "      <th>DATE_TIME</th>\n",
              "      <th>CELL_ON_SITE</th>\n",
              "      <th>DW_A_NUMBER</th>\n",
              "      <th>DW_B_NUMBER</th>\n",
              "      <th>COUNTRY_A</th>\n",
              "      <th>COUNTRY_B</th>\n",
              "      <th>CELL_ID</th>\n",
              "      <th>SITE_ID</th>\n",
              "    </tr>\n",
              "  </thead>\n",
              "  <tbody>\n",
              "    <tr>\n",
              "      <th>0</th>\n",
              "      <td>sms</td>\n",
              "      <td>0</td>\n",
              "      <td>2012-05-07 23:02:06.0</td>\n",
              "      <td>2</td>\n",
              "      <td>32255675c3b6fe3</td>\n",
              "      <td>1aa7ae01386e9fb</td>\n",
              "      <td>19e2e</td>\n",
              "      <td>19e2e</td>\n",
              "      <td>+854AcBQT2</td>\n",
              "      <td>+854AcBQT2</td>\n",
              "    </tr>\n",
              "    <tr>\n",
              "      <th>1</th>\n",
              "      <td>Voice</td>\n",
              "      <td>0</td>\n",
              "      <td>2012-05-07 23:03:44.0</td>\n",
              "      <td>1</td>\n",
              "      <td>ff16d6ac74c1c64</td>\n",
              "      <td>87d87309c15a8c9</td>\n",
              "      <td>19e2e</td>\n",
              "      <td>19e2e</td>\n",
              "      <td>+854AcBQT2</td>\n",
              "      <td>+854AcBQT2</td>\n",
              "    </tr>\n",
              "    <tr>\n",
              "      <th>2</th>\n",
              "      <td>sms</td>\n",
              "      <td>0</td>\n",
              "      <td>2012-05-07 23:04:06.0</td>\n",
              "      <td>0</td>\n",
              "      <td>98d9f2fb5ff624b</td>\n",
              "      <td>93343ba6e41af95</td>\n",
              "      <td>19e2e</td>\n",
              "      <td>19e2e</td>\n",
              "      <td>+laSrk7g6q</td>\n",
              "      <td>+laSrk7g6q</td>\n",
              "    </tr>\n",
              "    <tr>\n",
              "      <th>3</th>\n",
              "      <td>Voice</td>\n",
              "      <td>37</td>\n",
              "      <td>2012-05-07 23:04:48.0</td>\n",
              "      <td>1</td>\n",
              "      <td>3f9c8a33ec7be1f</td>\n",
              "      <td>7d05a38f89c49d8</td>\n",
              "      <td>19e2e</td>\n",
              "      <td>19e2e</td>\n",
              "      <td>/xvRrCVKoQ</td>\n",
              "      <td>/xvRrCVKoQ</td>\n",
              "    </tr>\n",
              "    <tr>\n",
              "      <th>4</th>\n",
              "      <td>sms</td>\n",
              "      <td>25</td>\n",
              "      <td>2012-05-07 23:04:58.0</td>\n",
              "      <td>1</td>\n",
              "      <td>7bcccc03adf3864</td>\n",
              "      <td>56a5d5430d2fa86</td>\n",
              "      <td>19e2e</td>\n",
              "      <td>19e2e</td>\n",
              "      <td>+bO+qkSonO</td>\n",
              "      <td>+bO+qkSonO</td>\n",
              "    </tr>\n",
              "  </tbody>\n",
              "</table>\n",
              "</div>"
            ],
            "text/plain": [
              "  PRODUCT  VALUE              DATE_TIME  ... COUNTRY_B     CELL_ID     SITE_ID\n",
              "0     sms      0  2012-05-07 23:02:06.0  ...     19e2e  +854AcBQT2  +854AcBQT2\n",
              "1   Voice      0  2012-05-07 23:03:44.0  ...     19e2e  +854AcBQT2  +854AcBQT2\n",
              "2     sms      0  2012-05-07 23:04:06.0  ...     19e2e  +laSrk7g6q  +laSrk7g6q\n",
              "3   Voice     37  2012-05-07 23:04:48.0  ...     19e2e  /xvRrCVKoQ  /xvRrCVKoQ\n",
              "4     sms     25  2012-05-07 23:04:58.0  ...     19e2e  +bO+qkSonO  +bO+qkSonO\n",
              "\n",
              "[5 rows x 10 columns]"
            ]
          },
          "metadata": {},
          "execution_count": 4
        }
      ]
    },
    {
      "cell_type": "code",
      "metadata": {
        "colab": {
          "base_uri": "https://localhost:8080/",
          "height": 204
        },
        "id": "eb-95BSY7cvM",
        "outputId": "824b7913-8308-466e-968f-24f831abde0b"
      },
      "source": [
        "set3 = pd.read_csv('Telcom_dataset3.csv')\n",
        "set3.rename(columns= {\"SIET_ID\": \"SITE_ID\"}, inplace=True)\n",
        "set3.head()"
      ],
      "execution_count": 7,
      "outputs": [
        {
          "output_type": "execute_result",
          "data": {
            "text/html": [
              "<div>\n",
              "<style scoped>\n",
              "    .dataframe tbody tr th:only-of-type {\n",
              "        vertical-align: middle;\n",
              "    }\n",
              "\n",
              "    .dataframe tbody tr th {\n",
              "        vertical-align: top;\n",
              "    }\n",
              "\n",
              "    .dataframe thead th {\n",
              "        text-align: right;\n",
              "    }\n",
              "</style>\n",
              "<table border=\"1\" class=\"dataframe\">\n",
              "  <thead>\n",
              "    <tr style=\"text-align: right;\">\n",
              "      <th></th>\n",
              "      <th>PRODUCT</th>\n",
              "      <th>VALUE</th>\n",
              "      <th>DATE_TIME</th>\n",
              "      <th>CELL_ON_SITE</th>\n",
              "      <th>DW_A_NUMBER_INT</th>\n",
              "      <th>DW_B_NUMBER_INT</th>\n",
              "      <th>COUNTRY_A</th>\n",
              "      <th>COUNTRY_B</th>\n",
              "      <th>CELLID</th>\n",
              "      <th>SITE_ID</th>\n",
              "    </tr>\n",
              "  </thead>\n",
              "  <tbody>\n",
              "    <tr>\n",
              "      <th>0</th>\n",
              "      <td>Voice</td>\n",
              "      <td>61</td>\n",
              "      <td>2012-05-08 23:01:28.0</td>\n",
              "      <td>2</td>\n",
              "      <td>966f68353622feb</td>\n",
              "      <td>ffd53a3bb2db6f1</td>\n",
              "      <td>19e2e</td>\n",
              "      <td>19e2e</td>\n",
              "      <td>+38u2u/rfx</td>\n",
              "      <td>+38u2u/rfx</td>\n",
              "    </tr>\n",
              "    <tr>\n",
              "      <th>1</th>\n",
              "      <td>sms</td>\n",
              "      <td>0</td>\n",
              "      <td>2012-05-08 23:01:31.0</td>\n",
              "      <td>1</td>\n",
              "      <td>a0a597384c612d7</td>\n",
              "      <td>cf3b218f1dde792</td>\n",
              "      <td>19e2e</td>\n",
              "      <td>19e2e</td>\n",
              "      <td>+Fs4mTvdKx</td>\n",
              "      <td>+Fs4mTvdKx</td>\n",
              "    </tr>\n",
              "    <tr>\n",
              "      <th>2</th>\n",
              "      <td>Voice</td>\n",
              "      <td>10</td>\n",
              "      <td>2012-05-08 23:02:59.0</td>\n",
              "      <td>1</td>\n",
              "      <td>5441a9a58c97132</td>\n",
              "      <td>52f8b299515b9b7</td>\n",
              "      <td>19e2e</td>\n",
              "      <td>19e2e</td>\n",
              "      <td>+ZaaZozy/+</td>\n",
              "      <td>+ZaaZozy/+</td>\n",
              "    </tr>\n",
              "    <tr>\n",
              "      <th>3</th>\n",
              "      <td>sms</td>\n",
              "      <td>0</td>\n",
              "      <td>2012-05-08 23:03:04.0</td>\n",
              "      <td>0</td>\n",
              "      <td>8ab8b9ed6989f61</td>\n",
              "      <td>e09e736e46c5c3d</td>\n",
              "      <td>19e2e</td>\n",
              "      <td>19e2e</td>\n",
              "      <td>+cNeJzsTp3</td>\n",
              "      <td>+cNeJzsTp3</td>\n",
              "    </tr>\n",
              "    <tr>\n",
              "      <th>4</th>\n",
              "      <td>Voice</td>\n",
              "      <td>22</td>\n",
              "      <td>2012-05-08 23:03:16.0</td>\n",
              "      <td>4</td>\n",
              "      <td>52662a62b199334</td>\n",
              "      <td>2186273faab4602</td>\n",
              "      <td>19e2e</td>\n",
              "      <td>19e2e</td>\n",
              "      <td>/eeMklgyJA</td>\n",
              "      <td>/eeMklgyJA</td>\n",
              "    </tr>\n",
              "  </tbody>\n",
              "</table>\n",
              "</div>"
            ],
            "text/plain": [
              "  PRODUCT  VALUE              DATE_TIME  ... COUNTRY_B      CELLID     SITE_ID\n",
              "0   Voice     61  2012-05-08 23:01:28.0  ...     19e2e  +38u2u/rfx  +38u2u/rfx\n",
              "1     sms      0  2012-05-08 23:01:31.0  ...     19e2e  +Fs4mTvdKx  +Fs4mTvdKx\n",
              "2   Voice     10  2012-05-08 23:02:59.0  ...     19e2e  +ZaaZozy/+  +ZaaZozy/+\n",
              "3     sms      0  2012-05-08 23:03:04.0  ...     19e2e  +cNeJzsTp3  +cNeJzsTp3\n",
              "4   Voice     22  2012-05-08 23:03:16.0  ...     19e2e  /eeMklgyJA  /eeMklgyJA\n",
              "\n",
              "[5 rows x 10 columns]"
            ]
          },
          "metadata": {},
          "execution_count": 7
        }
      ]
    },
    {
      "cell_type": "markdown",
      "metadata": {
        "id": "CmDtntemWUE5"
      },
      "source": [
        "The next step involves data exploration before cleaning and eventual analysis can be done."
      ]
    },
    {
      "cell_type": "markdown",
      "metadata": {
        "id": "554ZrrXmWYa6"
      },
      "source": [
        "### Possible problems to be addressed"
      ]
    },
    {
      "cell_type": "markdown",
      "metadata": {
        "id": "b0ZSL61OzouU"
      },
      "source": [
        "In the cells dataframe, the 'Abidjan_EST' entry has unintended quotations from the source. Also, since each Telecom dataset represent specific dates, the date-time column needs to only represent time by itself. As such, it needs to be split and renamed. In the cells df, the Unamed column needs to be dropped as it serves no purpose.\n",
        "\n"
      ]
    },
    {
      "cell_type": "markdown",
      "metadata": {
        "id": "TGkCzYaPR-Ri"
      },
      "source": [
        "## DATA CLEANING"
      ]
    },
    {
      "cell_type": "markdown",
      "metadata": {
        "id": "pXUTM69FR19k"
      },
      "source": [
        "### Uniformity"
      ]
    },
    {
      "cell_type": "code",
      "metadata": {
        "id": "toqJqyfPSgf6",
        "colab": {
          "base_uri": "https://localhost:8080/",
          "height": 204
        },
        "outputId": "124c9732-9107-45da-f684-36c490eb905c"
      },
      "source": [
        "cells.rename(columns={'VILLES': 'City'}, inplace=True)\n",
        "cells.replace(to_replace='\"Abidjan_EST', value='Abidjan_EST', inplace=True)\n",
        "cells.drop(['Unnamed: 0'], axis=1, inplace=True)\n",
        "cells.head()"
      ],
      "execution_count": 8,
      "outputs": [
        {
          "output_type": "execute_result",
          "data": {
            "text/html": [
              "<div>\n",
              "<style scoped>\n",
              "    .dataframe tbody tr th:only-of-type {\n",
              "        vertical-align: middle;\n",
              "    }\n",
              "\n",
              "    .dataframe tbody tr th {\n",
              "        vertical-align: top;\n",
              "    }\n",
              "\n",
              "    .dataframe thead th {\n",
              "        text-align: right;\n",
              "    }\n",
              "</style>\n",
              "<table border=\"1\" class=\"dataframe\">\n",
              "  <thead>\n",
              "    <tr style=\"text-align: right;\">\n",
              "      <th></th>\n",
              "      <th>City</th>\n",
              "      <th>STATUS</th>\n",
              "      <th>LOCALISATION</th>\n",
              "      <th>DECOUPZONE</th>\n",
              "      <th>ZONENAME</th>\n",
              "      <th>LONGITUDE</th>\n",
              "      <th>LATITUDE</th>\n",
              "      <th>REGION</th>\n",
              "      <th>AREA</th>\n",
              "      <th>CELL_ID</th>\n",
              "      <th>SITE_CODE</th>\n",
              "    </tr>\n",
              "  </thead>\n",
              "  <tbody>\n",
              "    <tr>\n",
              "      <th>0</th>\n",
              "      <td>ADJAME</td>\n",
              "      <td>In Service</td>\n",
              "      <td>ABIDJAN</td>\n",
              "      <td>Abidjan_EST</td>\n",
              "      <td>AGBANNEW</td>\n",
              "      <td>-4.000667</td>\n",
              "      <td>5.368194</td>\n",
              "      <td>LAGUNE</td>\n",
              "      <td>NaN</td>\n",
              "      <td>fbb2e75af3</td>\n",
              "      <td>0bb492ef17</td>\n",
              "    </tr>\n",
              "    <tr>\n",
              "      <th>1</th>\n",
              "      <td>ADJAME</td>\n",
              "      <td>In Service</td>\n",
              "      <td>ABIDJAN</td>\n",
              "      <td>Abidjan_EST</td>\n",
              "      <td>AGBANNEW</td>\n",
              "      <td>-4.000667</td>\n",
              "      <td>5.368194</td>\n",
              "      <td>LAGUNE</td>\n",
              "      <td>NaN</td>\n",
              "      <td>1502501d78</td>\n",
              "      <td>0bb492ef17</td>\n",
              "    </tr>\n",
              "    <tr>\n",
              "      <th>2</th>\n",
              "      <td>ADJAME</td>\n",
              "      <td>In Service</td>\n",
              "      <td>ABIDJAN</td>\n",
              "      <td>Abidjan_EST</td>\n",
              "      <td>AGBANNEW</td>\n",
              "      <td>-4.000667</td>\n",
              "      <td>5.368194</td>\n",
              "      <td>LAGUNE</td>\n",
              "      <td>NaN</td>\n",
              "      <td>0c2e182a0c</td>\n",
              "      <td>0bb492ef17</td>\n",
              "    </tr>\n",
              "    <tr>\n",
              "      <th>3</th>\n",
              "      <td>ASSINIE</td>\n",
              "      <td>In Service</td>\n",
              "      <td>INTERIEUR</td>\n",
              "      <td>Grand-EST</td>\n",
              "      <td>ASSINIE\"</td>\n",
              "      <td>-3.488467</td>\n",
              "      <td>5.158761</td>\n",
              "      <td>SUD COMOE</td>\n",
              "      <td>NaN</td>\n",
              "      <td>69bdfc69fd</td>\n",
              "      <td>8a1e6ce31f</td>\n",
              "    </tr>\n",
              "    <tr>\n",
              "      <th>4</th>\n",
              "      <td>ASSINIE</td>\n",
              "      <td>In Service</td>\n",
              "      <td>INTERIEUR</td>\n",
              "      <td>Grand-EST</td>\n",
              "      <td>ASSINIE\"</td>\n",
              "      <td>-3.488467</td>\n",
              "      <td>5.158761</td>\n",
              "      <td>SUD COMOE</td>\n",
              "      <td>NaN</td>\n",
              "      <td>7a1029d2ab</td>\n",
              "      <td>8a1e6ce31f</td>\n",
              "    </tr>\n",
              "  </tbody>\n",
              "</table>\n",
              "</div>"
            ],
            "text/plain": [
              "      City      STATUS LOCALISATION  ... AREA     CELL_ID   SITE_CODE\n",
              "0   ADJAME  In Service      ABIDJAN  ...  NaN  fbb2e75af3  0bb492ef17\n",
              "1   ADJAME  In Service      ABIDJAN  ...  NaN  1502501d78  0bb492ef17\n",
              "2   ADJAME  In Service      ABIDJAN  ...  NaN  0c2e182a0c  0bb492ef17\n",
              "3  ASSINIE  In Service    INTERIEUR  ...  NaN  69bdfc69fd  8a1e6ce31f\n",
              "4  ASSINIE  In Service    INTERIEUR  ...  NaN  7a1029d2ab  8a1e6ce31f\n",
              "\n",
              "[5 rows x 11 columns]"
            ]
          },
          "metadata": {},
          "execution_count": 8
        }
      ]
    },
    {
      "cell_type": "markdown",
      "metadata": {
        "id": "sBXTKSrobeUs"
      },
      "source": [
        "Eliminating redundant columns in each dataset"
      ]
    },
    {
      "cell_type": "code",
      "metadata": {
        "id": "kZsWTgaDbihw"
      },
      "source": [
        "eliminate = ['CELL_ON_SITE', 'COUNTRY_A', 'COUNTRY_B']\n",
        "set1.drop(eliminate, axis=1,inplace=True)\n",
        "set2.drop(eliminate, axis=1, inplace=True)\n",
        "set3.drop(eliminate, axis=1, inplace=True)"
      ],
      "execution_count": 9,
      "outputs": []
    },
    {
      "cell_type": "markdown",
      "metadata": {
        "id": "D04bUF9TeU4P"
      },
      "source": [
        "### Completeness"
      ]
    },
    {
      "cell_type": "code",
      "metadata": {
        "colab": {
          "base_uri": "https://localhost:8080/"
        },
        "id": "w4xk5sjteZ6j",
        "outputId": "af7e0d51-06a0-4463-e01a-dd7247fde8f0"
      },
      "source": [
        "cells.isnull().sum().sort_values(ascending=False)"
      ],
      "execution_count": 10,
      "outputs": [
        {
          "output_type": "execute_result",
          "data": {
            "text/plain": [
              "STATUS          67\n",
              "AREA            23\n",
              "ZONENAME         6\n",
              "SITE_CODE        0\n",
              "CELL_ID          0\n",
              "REGION           0\n",
              "LATITUDE         0\n",
              "LONGITUDE        0\n",
              "DECOUPZONE       0\n",
              "LOCALISATION     0\n",
              "City             0\n",
              "dtype: int64"
            ]
          },
          "metadata": {},
          "execution_count": 10
        }
      ]
    },
    {
      "cell_type": "code",
      "metadata": {
        "id": "jmaMNoWgjOOF"
      },
      "source": [
        "cells.dropna(inplace=True)"
      ],
      "execution_count": 14,
      "outputs": []
    },
    {
      "cell_type": "code",
      "metadata": {
        "colab": {
          "base_uri": "https://localhost:8080/"
        },
        "id": "HBNQPVblezbZ",
        "outputId": "b8d92b04-7c13-49f6-e25f-ed373b0545ce"
      },
      "source": [
        "set1.isnull().sum().sort_values(ascending=False)"
      ],
      "execution_count": 11,
      "outputs": [
        {
          "output_type": "execute_result",
          "data": {
            "text/plain": [
              "SITE_ID            716\n",
              "CELL_ID              0\n",
              "DW_B_NUMBER_INT      0\n",
              "DW_A_NUMBER_INT      0\n",
              "DATETIME             0\n",
              "VALUE                0\n",
              "PRODUCT              0\n",
              "dtype: int64"
            ]
          },
          "metadata": {},
          "execution_count": 11
        }
      ]
    },
    {
      "cell_type": "code",
      "metadata": {
        "id": "MNUjrOpcjTAK"
      },
      "source": [
        "set1.dropna(inplace=True)"
      ],
      "execution_count": 15,
      "outputs": []
    },
    {
      "cell_type": "code",
      "metadata": {
        "colab": {
          "base_uri": "https://localhost:8080/"
        },
        "id": "uNRThPq3fJlj",
        "outputId": "07c52a5d-5b1a-4ad8-814f-746fa0516c45"
      },
      "source": [
        "set2.isnull().sum().sort_values(ascending=False)"
      ],
      "execution_count": 12,
      "outputs": [
        {
          "output_type": "execute_result",
          "data": {
            "text/plain": [
              "SITE_ID        676\n",
              "CELL_ID          0\n",
              "DW_B_NUMBER      0\n",
              "DW_A_NUMBER      0\n",
              "DATE_TIME        0\n",
              "VALUE            0\n",
              "PRODUCT          0\n",
              "dtype: int64"
            ]
          },
          "metadata": {},
          "execution_count": 12
        }
      ]
    },
    {
      "cell_type": "code",
      "metadata": {
        "id": "zW1pw4JmjWqa"
      },
      "source": [
        "set2.dropna(inplace=True)"
      ],
      "execution_count": 16,
      "outputs": []
    },
    {
      "cell_type": "code",
      "metadata": {
        "colab": {
          "base_uri": "https://localhost:8080/"
        },
        "id": "DwfrtKIAfCHT",
        "outputId": "e5b79553-242d-43ad-c75a-f8593dc4063a"
      },
      "source": [
        "set3.isnull().sum().sort_values(ascending=False)"
      ],
      "execution_count": 13,
      "outputs": [
        {
          "output_type": "execute_result",
          "data": {
            "text/plain": [
              "SITE_ID            605\n",
              "CELLID               0\n",
              "DW_B_NUMBER_INT      0\n",
              "DW_A_NUMBER_INT      0\n",
              "DATE_TIME            0\n",
              "VALUE                0\n",
              "PRODUCT              0\n",
              "dtype: int64"
            ]
          },
          "metadata": {},
          "execution_count": 13
        }
      ]
    },
    {
      "cell_type": "code",
      "metadata": {
        "id": "_u9gztXfjZsK"
      },
      "source": [
        "set3.dropna(inplace=True)"
      ],
      "execution_count": 17,
      "outputs": []
    },
    {
      "cell_type": "markdown",
      "metadata": {
        "id": "eIzpr_TefeIU"
      },
      "source": [
        "### Consistency"
      ]
    },
    {
      "cell_type": "code",
      "metadata": {
        "id": "GDm1lKv8-6Ux",
        "colab": {
          "base_uri": "https://localhost:8080/"
        },
        "outputId": "a4b28639-dc6e-43fe-8246-2877c775c636"
      },
      "source": [
        "cells.duplicated().sum()"
      ],
      "execution_count": 21,
      "outputs": [
        {
          "output_type": "execute_result",
          "data": {
            "text/plain": [
              "17"
            ]
          },
          "metadata": {},
          "execution_count": 21
        }
      ]
    },
    {
      "cell_type": "code",
      "metadata": {
        "colab": {
          "base_uri": "https://localhost:8080/"
        },
        "id": "uhGxYNADfk_5",
        "outputId": "b9191c12-b36d-4e3d-8476-603cb88df9b9"
      },
      "source": [
        "set1.duplicated().sum()"
      ],
      "execution_count": 22,
      "outputs": [
        {
          "output_type": "execute_result",
          "data": {
            "text/plain": [
              "70"
            ]
          },
          "metadata": {},
          "execution_count": 22
        }
      ]
    },
    {
      "cell_type": "code",
      "metadata": {
        "colab": {
          "base_uri": "https://localhost:8080/"
        },
        "id": "oaoHhENdgjQK",
        "outputId": "1459bc5b-80ca-433f-be49-9cfdd5babc1d"
      },
      "source": [
        "set2.duplicated().sum()"
      ],
      "execution_count": 23,
      "outputs": [
        {
          "output_type": "execute_result",
          "data": {
            "text/plain": [
              "62"
            ]
          },
          "metadata": {},
          "execution_count": 23
        }
      ]
    },
    {
      "cell_type": "code",
      "metadata": {
        "colab": {
          "base_uri": "https://localhost:8080/"
        },
        "id": "zdDkEyHygm9B",
        "outputId": "f860addf-fcda-4b66-e93c-f1cb0afe321a"
      },
      "source": [
        "set3.duplicated().sum()"
      ],
      "execution_count": 25,
      "outputs": [
        {
          "output_type": "execute_result",
          "data": {
            "text/plain": [
              "85"
            ]
          },
          "metadata": {},
          "execution_count": 25
        }
      ]
    },
    {
      "cell_type": "code",
      "metadata": {
        "id": "CWy-BU0wgq3z"
      },
      "source": [
        "# Dropping Duplicates in datasets\n",
        "\n",
        "cells.drop_duplicates(inplace=True)\n",
        "set1.drop_duplicates(inplace=True)\n",
        "set2.drop_duplicates(inplace=True)\n",
        "set3.drop_duplicates(inplace=True)"
      ],
      "execution_count": 26,
      "outputs": []
    },
    {
      "cell_type": "markdown",
      "metadata": {
        "id": "j-AmyCj5j4tO"
      },
      "source": [
        "### Merging Datasets"
      ]
    },
    {
      "cell_type": "code",
      "metadata": {
        "colab": {
          "base_uri": "https://localhost:8080/",
          "height": 394
        },
        "id": "4LWLO2m0g7uw",
        "outputId": "ce0d9762-ae4d-4adc-c5b5-317cfdef5a5b"
      },
      "source": [
        "# Merging the three days' datasets\n",
        "\n",
        "days = pd.concat([set1,set2,set3], axis=0, join='outer', ignore_index=True)\n",
        "days.head()"
      ],
      "execution_count": 29,
      "outputs": [
        {
          "output_type": "execute_result",
          "data": {
            "text/html": [
              "<div>\n",
              "<style scoped>\n",
              "    .dataframe tbody tr th:only-of-type {\n",
              "        vertical-align: middle;\n",
              "    }\n",
              "\n",
              "    .dataframe tbody tr th {\n",
              "        vertical-align: top;\n",
              "    }\n",
              "\n",
              "    .dataframe thead th {\n",
              "        text-align: right;\n",
              "    }\n",
              "</style>\n",
              "<table border=\"1\" class=\"dataframe\">\n",
              "  <thead>\n",
              "    <tr style=\"text-align: right;\">\n",
              "      <th></th>\n",
              "      <th>PRODUCT</th>\n",
              "      <th>VALUE</th>\n",
              "      <th>DATETIME</th>\n",
              "      <th>DW_A_NUMBER_INT</th>\n",
              "      <th>DW_B_NUMBER_INT</th>\n",
              "      <th>CELL_ID</th>\n",
              "      <th>SITE_ID</th>\n",
              "      <th>DATE_TIME</th>\n",
              "      <th>DW_A_NUMBER</th>\n",
              "      <th>DW_B_NUMBER</th>\n",
              "      <th>CELLID</th>\n",
              "    </tr>\n",
              "  </thead>\n",
              "  <tbody>\n",
              "    <tr>\n",
              "      <th>0</th>\n",
              "      <td>Voice</td>\n",
              "      <td>0</td>\n",
              "      <td>2012-05-06 23:04:37.0</td>\n",
              "      <td>49fae048b547780</td>\n",
              "      <td>1a49f8b0ded9de6</td>\n",
              "      <td>/TJNe+Mmtu</td>\n",
              "      <td>/TJNe+Mmtu</td>\n",
              "      <td>NaN</td>\n",
              "      <td>NaN</td>\n",
              "      <td>NaN</td>\n",
              "      <td>NaN</td>\n",
              "    </tr>\n",
              "    <tr>\n",
              "      <th>1</th>\n",
              "      <td>sms</td>\n",
              "      <td>0</td>\n",
              "      <td>2012-05-06 23:05:25.0</td>\n",
              "      <td>7a54a6eaee19e65</td>\n",
              "      <td>93343ba6e41af95</td>\n",
              "      <td>/+cKZKIp41</td>\n",
              "      <td>/+cKZKIp41</td>\n",
              "      <td>NaN</td>\n",
              "      <td>NaN</td>\n",
              "      <td>NaN</td>\n",
              "      <td>NaN</td>\n",
              "    </tr>\n",
              "    <tr>\n",
              "      <th>2</th>\n",
              "      <td>sms</td>\n",
              "      <td>25</td>\n",
              "      <td>2012-05-06 23:05:41.0</td>\n",
              "      <td>6008887b0207d82</td>\n",
              "      <td>7aacc9709ce0a20</td>\n",
              "      <td>/u0FSD+ahi</td>\n",
              "      <td>/u0FSD+ahi</td>\n",
              "      <td>NaN</td>\n",
              "      <td>NaN</td>\n",
              "      <td>NaN</td>\n",
              "      <td>NaN</td>\n",
              "    </tr>\n",
              "    <tr>\n",
              "      <th>3</th>\n",
              "      <td>Voice</td>\n",
              "      <td>56</td>\n",
              "      <td>2012-05-06 23:05:42.0</td>\n",
              "      <td>7370032e20f4e96</td>\n",
              "      <td>6af4a60e74c91d3</td>\n",
              "      <td>+cNeJzsTp3</td>\n",
              "      <td>+cNeJzsTp3</td>\n",
              "      <td>NaN</td>\n",
              "      <td>NaN</td>\n",
              "      <td>NaN</td>\n",
              "      <td>NaN</td>\n",
              "    </tr>\n",
              "    <tr>\n",
              "      <th>4</th>\n",
              "      <td>Voice</td>\n",
              "      <td>14</td>\n",
              "      <td>2012-05-06 23:06:29.0</td>\n",
              "      <td>966ba4656e38e62</td>\n",
              "      <td>02aa736ee555d5c</td>\n",
              "      <td>051KhYDCpv</td>\n",
              "      <td>051KhYDCpv</td>\n",
              "      <td>NaN</td>\n",
              "      <td>NaN</td>\n",
              "      <td>NaN</td>\n",
              "      <td>NaN</td>\n",
              "    </tr>\n",
              "  </tbody>\n",
              "</table>\n",
              "</div>"
            ],
            "text/plain": [
              "  PRODUCT  VALUE               DATETIME  ... DW_A_NUMBER DW_B_NUMBER CELLID\n",
              "0   Voice      0  2012-05-06 23:04:37.0  ...         NaN         NaN    NaN\n",
              "1     sms      0  2012-05-06 23:05:25.0  ...         NaN         NaN    NaN\n",
              "2     sms     25  2012-05-06 23:05:41.0  ...         NaN         NaN    NaN\n",
              "3   Voice     56  2012-05-06 23:05:42.0  ...         NaN         NaN    NaN\n",
              "4   Voice     14  2012-05-06 23:06:29.0  ...         NaN         NaN    NaN\n",
              "\n",
              "[5 rows x 11 columns]"
            ]
          },
          "metadata": {},
          "execution_count": 29
        }
      ]
    },
    {
      "cell_type": "markdown",
      "metadata": {
        "id": "kkX24QMyh1uK"
      },
      "source": [
        "Enhancing the new concatated table"
      ]
    },
    {
      "cell_type": "code",
      "metadata": {
        "colab": {
          "base_uri": "https://localhost:8080/",
          "height": 204
        },
        "id": "V_9UejuSh9Gc",
        "outputId": "6937a331-ea8c-49dc-84d7-8e253e387f12"
      },
      "source": [
        "drop = ['DATE_TIME', 'CELLID', 'DW_A_NUMBER', 'DW_B_NUMBER']\n",
        "days.drop(drop, axis=1, inplace=True)\n",
        "days.head()"
      ],
      "execution_count": 30,
      "outputs": [
        {
          "output_type": "execute_result",
          "data": {
            "text/html": [
              "<div>\n",
              "<style scoped>\n",
              "    .dataframe tbody tr th:only-of-type {\n",
              "        vertical-align: middle;\n",
              "    }\n",
              "\n",
              "    .dataframe tbody tr th {\n",
              "        vertical-align: top;\n",
              "    }\n",
              "\n",
              "    .dataframe thead th {\n",
              "        text-align: right;\n",
              "    }\n",
              "</style>\n",
              "<table border=\"1\" class=\"dataframe\">\n",
              "  <thead>\n",
              "    <tr style=\"text-align: right;\">\n",
              "      <th></th>\n",
              "      <th>PRODUCT</th>\n",
              "      <th>VALUE</th>\n",
              "      <th>DATETIME</th>\n",
              "      <th>DW_A_NUMBER_INT</th>\n",
              "      <th>DW_B_NUMBER_INT</th>\n",
              "      <th>CELL_ID</th>\n",
              "      <th>SITE_ID</th>\n",
              "    </tr>\n",
              "  </thead>\n",
              "  <tbody>\n",
              "    <tr>\n",
              "      <th>0</th>\n",
              "      <td>Voice</td>\n",
              "      <td>0</td>\n",
              "      <td>2012-05-06 23:04:37.0</td>\n",
              "      <td>49fae048b547780</td>\n",
              "      <td>1a49f8b0ded9de6</td>\n",
              "      <td>/TJNe+Mmtu</td>\n",
              "      <td>/TJNe+Mmtu</td>\n",
              "    </tr>\n",
              "    <tr>\n",
              "      <th>1</th>\n",
              "      <td>sms</td>\n",
              "      <td>0</td>\n",
              "      <td>2012-05-06 23:05:25.0</td>\n",
              "      <td>7a54a6eaee19e65</td>\n",
              "      <td>93343ba6e41af95</td>\n",
              "      <td>/+cKZKIp41</td>\n",
              "      <td>/+cKZKIp41</td>\n",
              "    </tr>\n",
              "    <tr>\n",
              "      <th>2</th>\n",
              "      <td>sms</td>\n",
              "      <td>25</td>\n",
              "      <td>2012-05-06 23:05:41.0</td>\n",
              "      <td>6008887b0207d82</td>\n",
              "      <td>7aacc9709ce0a20</td>\n",
              "      <td>/u0FSD+ahi</td>\n",
              "      <td>/u0FSD+ahi</td>\n",
              "    </tr>\n",
              "    <tr>\n",
              "      <th>3</th>\n",
              "      <td>Voice</td>\n",
              "      <td>56</td>\n",
              "      <td>2012-05-06 23:05:42.0</td>\n",
              "      <td>7370032e20f4e96</td>\n",
              "      <td>6af4a60e74c91d3</td>\n",
              "      <td>+cNeJzsTp3</td>\n",
              "      <td>+cNeJzsTp3</td>\n",
              "    </tr>\n",
              "    <tr>\n",
              "      <th>4</th>\n",
              "      <td>Voice</td>\n",
              "      <td>14</td>\n",
              "      <td>2012-05-06 23:06:29.0</td>\n",
              "      <td>966ba4656e38e62</td>\n",
              "      <td>02aa736ee555d5c</td>\n",
              "      <td>051KhYDCpv</td>\n",
              "      <td>051KhYDCpv</td>\n",
              "    </tr>\n",
              "  </tbody>\n",
              "</table>\n",
              "</div>"
            ],
            "text/plain": [
              "  PRODUCT  VALUE  ...     CELL_ID     SITE_ID\n",
              "0   Voice      0  ...  /TJNe+Mmtu  /TJNe+Mmtu\n",
              "1     sms      0  ...  /+cKZKIp41  /+cKZKIp41\n",
              "2     sms     25  ...  /u0FSD+ahi  /u0FSD+ahi\n",
              "3   Voice     56  ...  +cNeJzsTp3  +cNeJzsTp3\n",
              "4   Voice     14  ...  051KhYDCpv  051KhYDCpv\n",
              "\n",
              "[5 rows x 7 columns]"
            ]
          },
          "metadata": {},
          "execution_count": 30
        }
      ]
    },
    {
      "cell_type": "markdown",
      "metadata": {
        "id": "__vBVMEFjAmq"
      },
      "source": [
        "Merging all datasets now and cleaning them"
      ]
    },
    {
      "cell_type": "code",
      "metadata": {
        "colab": {
          "base_uri": "https://localhost:8080/",
          "height": 394
        },
        "id": "_jajDEs1i_OZ",
        "outputId": "2670ba21-756d-4e5a-8b41-fccb26560dc5"
      },
      "source": [
        "df = pd.merge(days, cells, how='inner', left_on=['SITE_ID'], right_on=['SITE_CODE'])\n",
        "df.head()"
      ],
      "execution_count": 31,
      "outputs": [
        {
          "output_type": "execute_result",
          "data": {
            "text/html": [
              "<div>\n",
              "<style scoped>\n",
              "    .dataframe tbody tr th:only-of-type {\n",
              "        vertical-align: middle;\n",
              "    }\n",
              "\n",
              "    .dataframe tbody tr th {\n",
              "        vertical-align: top;\n",
              "    }\n",
              "\n",
              "    .dataframe thead th {\n",
              "        text-align: right;\n",
              "    }\n",
              "</style>\n",
              "<table border=\"1\" class=\"dataframe\">\n",
              "  <thead>\n",
              "    <tr style=\"text-align: right;\">\n",
              "      <th></th>\n",
              "      <th>PRODUCT</th>\n",
              "      <th>VALUE</th>\n",
              "      <th>DATETIME</th>\n",
              "      <th>DW_A_NUMBER_INT</th>\n",
              "      <th>DW_B_NUMBER_INT</th>\n",
              "      <th>CELL_ID_x</th>\n",
              "      <th>SITE_ID</th>\n",
              "      <th>City</th>\n",
              "      <th>STATUS</th>\n",
              "      <th>LOCALISATION</th>\n",
              "      <th>DECOUPZONE</th>\n",
              "      <th>ZONENAME</th>\n",
              "      <th>LONGITUDE</th>\n",
              "      <th>LATITUDE</th>\n",
              "      <th>REGION</th>\n",
              "      <th>AREA</th>\n",
              "      <th>CELL_ID_y</th>\n",
              "      <th>SITE_CODE</th>\n",
              "    </tr>\n",
              "  </thead>\n",
              "  <tbody>\n",
              "    <tr>\n",
              "      <th>0</th>\n",
              "      <td>sms</td>\n",
              "      <td>0</td>\n",
              "      <td>2012-05-07 00:00:00.0</td>\n",
              "      <td>8118c3aa53d6c7b</td>\n",
              "      <td>1d103ea638ad1f0</td>\n",
              "      <td>5d9dc897f7</td>\n",
              "      <td>1b5540c02d</td>\n",
              "      <td>BOUAKE</td>\n",
              "      <td>In Service</td>\n",
              "      <td>INTERIEUR</td>\n",
              "      <td>Grand-NORD</td>\n",
              "      <td>ZONE A - Grand-NORD</td>\n",
              "      <td>-5.027139</td>\n",
              "      <td>7.718417</td>\n",
              "      <td>VALLEE DU BANDAMA</td>\n",
              "      <td>CENTRE NORTH</td>\n",
              "      <td>24ccdda3d5</td>\n",
              "      <td>1b5540c02d</td>\n",
              "    </tr>\n",
              "    <tr>\n",
              "      <th>1</th>\n",
              "      <td>sms</td>\n",
              "      <td>0</td>\n",
              "      <td>2012-05-07 00:00:00.0</td>\n",
              "      <td>8118c3aa53d6c7b</td>\n",
              "      <td>1d103ea638ad1f0</td>\n",
              "      <td>5d9dc897f7</td>\n",
              "      <td>1b5540c02d</td>\n",
              "      <td>BOUAKE</td>\n",
              "      <td>In Service</td>\n",
              "      <td>INTERIEUR</td>\n",
              "      <td>Grand-NORD</td>\n",
              "      <td>ZONE A - Grand-NORD</td>\n",
              "      <td>-5.027139</td>\n",
              "      <td>7.718417</td>\n",
              "      <td>VALLEE DU BANDAMA</td>\n",
              "      <td>CENTRE NORTH</td>\n",
              "      <td>ebfc58af70</td>\n",
              "      <td>1b5540c02d</td>\n",
              "    </tr>\n",
              "    <tr>\n",
              "      <th>2</th>\n",
              "      <td>sms</td>\n",
              "      <td>0</td>\n",
              "      <td>2012-05-07 00:00:00.0</td>\n",
              "      <td>8118c3aa53d6c7b</td>\n",
              "      <td>1d103ea638ad1f0</td>\n",
              "      <td>5d9dc897f7</td>\n",
              "      <td>1b5540c02d</td>\n",
              "      <td>BOUAKE</td>\n",
              "      <td>In Service</td>\n",
              "      <td>INTERIEUR</td>\n",
              "      <td>Grand-NORD</td>\n",
              "      <td>ZONE A - Grand-NORD</td>\n",
              "      <td>-5.027139</td>\n",
              "      <td>7.718417</td>\n",
              "      <td>VALLEE DU BANDAMA</td>\n",
              "      <td>CENTRE NORTH</td>\n",
              "      <td>ba8ce6e4ef</td>\n",
              "      <td>1b5540c02d</td>\n",
              "    </tr>\n",
              "    <tr>\n",
              "      <th>3</th>\n",
              "      <td>sms</td>\n",
              "      <td>0</td>\n",
              "      <td>2012-05-07 00:00:00.0</td>\n",
              "      <td>8118c3aa53d6c7b</td>\n",
              "      <td>1d103ea638ad1f0</td>\n",
              "      <td>5d9dc897f7</td>\n",
              "      <td>1b5540c02d</td>\n",
              "      <td>BOUAKE</td>\n",
              "      <td>In Service</td>\n",
              "      <td>INTERIEUR</td>\n",
              "      <td>Grand-NORD</td>\n",
              "      <td>ZONE A - Grand-NORD</td>\n",
              "      <td>-5.027139</td>\n",
              "      <td>7.718417</td>\n",
              "      <td>VALLEE DU BANDAMA</td>\n",
              "      <td>CENTRE NORTH</td>\n",
              "      <td>c2545171dc</td>\n",
              "      <td>1b5540c02d</td>\n",
              "    </tr>\n",
              "    <tr>\n",
              "      <th>4</th>\n",
              "      <td>sms</td>\n",
              "      <td>0</td>\n",
              "      <td>2012-05-07 00:00:00.0</td>\n",
              "      <td>8118c3aa53d6c7b</td>\n",
              "      <td>1d103ea638ad1f0</td>\n",
              "      <td>5d9dc897f7</td>\n",
              "      <td>1b5540c02d</td>\n",
              "      <td>BOUAKE</td>\n",
              "      <td>In Service</td>\n",
              "      <td>INTERIEUR</td>\n",
              "      <td>Grand-NORD</td>\n",
              "      <td>ZONE A - Grand-NORD</td>\n",
              "      <td>-5.027139</td>\n",
              "      <td>7.718417</td>\n",
              "      <td>VALLEE DU BANDAMA</td>\n",
              "      <td>CENTRE NORTH</td>\n",
              "      <td>f15bd5483f</td>\n",
              "      <td>1b5540c02d</td>\n",
              "    </tr>\n",
              "  </tbody>\n",
              "</table>\n",
              "</div>"
            ],
            "text/plain": [
              "  PRODUCT  VALUE               DATETIME  ...          AREA   CELL_ID_y   SITE_CODE\n",
              "0     sms      0  2012-05-07 00:00:00.0  ...  CENTRE NORTH  24ccdda3d5  1b5540c02d\n",
              "1     sms      0  2012-05-07 00:00:00.0  ...  CENTRE NORTH  ebfc58af70  1b5540c02d\n",
              "2     sms      0  2012-05-07 00:00:00.0  ...  CENTRE NORTH  ba8ce6e4ef  1b5540c02d\n",
              "3     sms      0  2012-05-07 00:00:00.0  ...  CENTRE NORTH  c2545171dc  1b5540c02d\n",
              "4     sms      0  2012-05-07 00:00:00.0  ...  CENTRE NORTH  f15bd5483f  1b5540c02d\n",
              "\n",
              "[5 rows x 18 columns]"
            ]
          },
          "metadata": {},
          "execution_count": 31
        }
      ]
    },
    {
      "cell_type": "code",
      "metadata": {
        "id": "hCSToC0SjgNX",
        "colab": {
          "base_uri": "https://localhost:8080/",
          "height": 374
        },
        "outputId": "ceea756f-2368-4cbd-b7db-c8b332527396"
      },
      "source": [
        "# Dropping redundant columns\n",
        "\n",
        "eliminate = ['DW_B_NUMBER_INT', 'CELL_ID_x', 'CELL_ID_y', 'SITE_CODE']\n",
        "df.drop(eliminate, axis=1, inplace=True)\n",
        "df.head()"
      ],
      "execution_count": 32,
      "outputs": [
        {
          "output_type": "execute_result",
          "data": {
            "text/html": [
              "<div>\n",
              "<style scoped>\n",
              "    .dataframe tbody tr th:only-of-type {\n",
              "        vertical-align: middle;\n",
              "    }\n",
              "\n",
              "    .dataframe tbody tr th {\n",
              "        vertical-align: top;\n",
              "    }\n",
              "\n",
              "    .dataframe thead th {\n",
              "        text-align: right;\n",
              "    }\n",
              "</style>\n",
              "<table border=\"1\" class=\"dataframe\">\n",
              "  <thead>\n",
              "    <tr style=\"text-align: right;\">\n",
              "      <th></th>\n",
              "      <th>PRODUCT</th>\n",
              "      <th>VALUE</th>\n",
              "      <th>DATETIME</th>\n",
              "      <th>DW_A_NUMBER_INT</th>\n",
              "      <th>SITE_ID</th>\n",
              "      <th>City</th>\n",
              "      <th>STATUS</th>\n",
              "      <th>LOCALISATION</th>\n",
              "      <th>DECOUPZONE</th>\n",
              "      <th>ZONENAME</th>\n",
              "      <th>LONGITUDE</th>\n",
              "      <th>LATITUDE</th>\n",
              "      <th>REGION</th>\n",
              "      <th>AREA</th>\n",
              "    </tr>\n",
              "  </thead>\n",
              "  <tbody>\n",
              "    <tr>\n",
              "      <th>0</th>\n",
              "      <td>sms</td>\n",
              "      <td>0</td>\n",
              "      <td>2012-05-07 00:00:00.0</td>\n",
              "      <td>8118c3aa53d6c7b</td>\n",
              "      <td>1b5540c02d</td>\n",
              "      <td>BOUAKE</td>\n",
              "      <td>In Service</td>\n",
              "      <td>INTERIEUR</td>\n",
              "      <td>Grand-NORD</td>\n",
              "      <td>ZONE A - Grand-NORD</td>\n",
              "      <td>-5.027139</td>\n",
              "      <td>7.718417</td>\n",
              "      <td>VALLEE DU BANDAMA</td>\n",
              "      <td>CENTRE NORTH</td>\n",
              "    </tr>\n",
              "    <tr>\n",
              "      <th>1</th>\n",
              "      <td>sms</td>\n",
              "      <td>0</td>\n",
              "      <td>2012-05-07 00:00:00.0</td>\n",
              "      <td>8118c3aa53d6c7b</td>\n",
              "      <td>1b5540c02d</td>\n",
              "      <td>BOUAKE</td>\n",
              "      <td>In Service</td>\n",
              "      <td>INTERIEUR</td>\n",
              "      <td>Grand-NORD</td>\n",
              "      <td>ZONE A - Grand-NORD</td>\n",
              "      <td>-5.027139</td>\n",
              "      <td>7.718417</td>\n",
              "      <td>VALLEE DU BANDAMA</td>\n",
              "      <td>CENTRE NORTH</td>\n",
              "    </tr>\n",
              "    <tr>\n",
              "      <th>2</th>\n",
              "      <td>sms</td>\n",
              "      <td>0</td>\n",
              "      <td>2012-05-07 00:00:00.0</td>\n",
              "      <td>8118c3aa53d6c7b</td>\n",
              "      <td>1b5540c02d</td>\n",
              "      <td>BOUAKE</td>\n",
              "      <td>In Service</td>\n",
              "      <td>INTERIEUR</td>\n",
              "      <td>Grand-NORD</td>\n",
              "      <td>ZONE A - Grand-NORD</td>\n",
              "      <td>-5.027139</td>\n",
              "      <td>7.718417</td>\n",
              "      <td>VALLEE DU BANDAMA</td>\n",
              "      <td>CENTRE NORTH</td>\n",
              "    </tr>\n",
              "    <tr>\n",
              "      <th>3</th>\n",
              "      <td>sms</td>\n",
              "      <td>0</td>\n",
              "      <td>2012-05-07 00:00:00.0</td>\n",
              "      <td>8118c3aa53d6c7b</td>\n",
              "      <td>1b5540c02d</td>\n",
              "      <td>BOUAKE</td>\n",
              "      <td>In Service</td>\n",
              "      <td>INTERIEUR</td>\n",
              "      <td>Grand-NORD</td>\n",
              "      <td>ZONE A - Grand-NORD</td>\n",
              "      <td>-5.027139</td>\n",
              "      <td>7.718417</td>\n",
              "      <td>VALLEE DU BANDAMA</td>\n",
              "      <td>CENTRE NORTH</td>\n",
              "    </tr>\n",
              "    <tr>\n",
              "      <th>4</th>\n",
              "      <td>sms</td>\n",
              "      <td>0</td>\n",
              "      <td>2012-05-07 00:00:00.0</td>\n",
              "      <td>8118c3aa53d6c7b</td>\n",
              "      <td>1b5540c02d</td>\n",
              "      <td>BOUAKE</td>\n",
              "      <td>In Service</td>\n",
              "      <td>INTERIEUR</td>\n",
              "      <td>Grand-NORD</td>\n",
              "      <td>ZONE A - Grand-NORD</td>\n",
              "      <td>-5.027139</td>\n",
              "      <td>7.718417</td>\n",
              "      <td>VALLEE DU BANDAMA</td>\n",
              "      <td>CENTRE NORTH</td>\n",
              "    </tr>\n",
              "  </tbody>\n",
              "</table>\n",
              "</div>"
            ],
            "text/plain": [
              "  PRODUCT  VALUE  ...             REGION          AREA\n",
              "0     sms      0  ...  VALLEE DU BANDAMA  CENTRE NORTH\n",
              "1     sms      0  ...  VALLEE DU BANDAMA  CENTRE NORTH\n",
              "2     sms      0  ...  VALLEE DU BANDAMA  CENTRE NORTH\n",
              "3     sms      0  ...  VALLEE DU BANDAMA  CENTRE NORTH\n",
              "4     sms      0  ...  VALLEE DU BANDAMA  CENTRE NORTH\n",
              "\n",
              "[5 rows x 14 columns]"
            ]
          },
          "metadata": {},
          "execution_count": 32
        }
      ]
    },
    {
      "cell_type": "markdown",
      "metadata": {
        "id": "cBApfmrZkEoI"
      },
      "source": [
        "## ANALYSIS"
      ]
    },
    {
      "cell_type": "code",
      "metadata": {
        "colab": {
          "base_uri": "https://localhost:8080/",
          "height": 638
        },
        "id": "69tAwX7KkL2v",
        "outputId": "88d6b386-1f9b-4e70-ef16-22775f004010"
      },
      "source": [
        "# Regions with the highest number of calls\n",
        "\n",
        "df['REGION'].value_counts().to_frame()"
      ],
      "execution_count": 33,
      "outputs": [
        {
          "output_type": "execute_result",
          "data": {
            "text/html": [
              "<div>\n",
              "<style scoped>\n",
              "    .dataframe tbody tr th:only-of-type {\n",
              "        vertical-align: middle;\n",
              "    }\n",
              "\n",
              "    .dataframe tbody tr th {\n",
              "        vertical-align: top;\n",
              "    }\n",
              "\n",
              "    .dataframe thead th {\n",
              "        text-align: right;\n",
              "    }\n",
              "</style>\n",
              "<table border=\"1\" class=\"dataframe\">\n",
              "  <thead>\n",
              "    <tr style=\"text-align: right;\">\n",
              "      <th></th>\n",
              "      <th>REGION</th>\n",
              "    </tr>\n",
              "  </thead>\n",
              "  <tbody>\n",
              "    <tr>\n",
              "      <th>LAGUNE</th>\n",
              "      <td>31953</td>\n",
              "    </tr>\n",
              "    <tr>\n",
              "      <th>LACS</th>\n",
              "      <td>2408</td>\n",
              "    </tr>\n",
              "    <tr>\n",
              "      <th>BAS SASSANDRA</th>\n",
              "      <td>2327</td>\n",
              "    </tr>\n",
              "    <tr>\n",
              "      <th>HAUT SASSANDRA</th>\n",
              "      <td>2274</td>\n",
              "    </tr>\n",
              "    <tr>\n",
              "      <th>VALLEE DU BANDAMA</th>\n",
              "      <td>1551</td>\n",
              "    </tr>\n",
              "    <tr>\n",
              "      <th>SUD BANDAMA</th>\n",
              "      <td>1386</td>\n",
              "    </tr>\n",
              "    <tr>\n",
              "      <th>FROMAGER</th>\n",
              "      <td>904</td>\n",
              "    </tr>\n",
              "    <tr>\n",
              "      <th>SAVANE</th>\n",
              "      <td>895</td>\n",
              "    </tr>\n",
              "    <tr>\n",
              "      <th>WORODOUGOU</th>\n",
              "      <td>792</td>\n",
              "    </tr>\n",
              "    <tr>\n",
              "      <th>18 MONTAGNES</th>\n",
              "      <td>687</td>\n",
              "    </tr>\n",
              "    <tr>\n",
              "      <th>MARAHOUE</th>\n",
              "      <td>618</td>\n",
              "    </tr>\n",
              "    <tr>\n",
              "      <th>AGNEBY</th>\n",
              "      <td>579</td>\n",
              "    </tr>\n",
              "    <tr>\n",
              "      <th>NZI COMOE</th>\n",
              "      <td>563</td>\n",
              "    </tr>\n",
              "    <tr>\n",
              "      <th>MOYEN CAVALLY</th>\n",
              "      <td>528</td>\n",
              "    </tr>\n",
              "    <tr>\n",
              "      <th>DENGUELE</th>\n",
              "      <td>395</td>\n",
              "    </tr>\n",
              "    <tr>\n",
              "      <th>ZANZAN</th>\n",
              "      <td>315</td>\n",
              "    </tr>\n",
              "    <tr>\n",
              "      <th>MOYEN COMOE</th>\n",
              "      <td>315</td>\n",
              "    </tr>\n",
              "    <tr>\n",
              "      <th>SUD COMOE</th>\n",
              "      <td>198</td>\n",
              "    </tr>\n",
              "    <tr>\n",
              "      <th>BAFING</th>\n",
              "      <td>99</td>\n",
              "    </tr>\n",
              "  </tbody>\n",
              "</table>\n",
              "</div>"
            ],
            "text/plain": [
              "                   REGION\n",
              "LAGUNE              31953\n",
              "LACS                 2408\n",
              "BAS SASSANDRA        2327\n",
              "HAUT SASSANDRA       2274\n",
              "VALLEE DU BANDAMA    1551\n",
              "SUD BANDAMA          1386\n",
              "FROMAGER              904\n",
              "SAVANE                895\n",
              "WORODOUGOU            792\n",
              "18 MONTAGNES          687\n",
              "MARAHOUE              618\n",
              "AGNEBY                579\n",
              "NZI COMOE             563\n",
              "MOYEN CAVALLY         528\n",
              "DENGUELE              395\n",
              "ZANZAN                315\n",
              "MOYEN COMOE           315\n",
              "SUD COMOE             198\n",
              "BAFING                 99"
            ]
          },
          "metadata": {},
          "execution_count": 33
        }
      ]
    },
    {
      "cell_type": "markdown",
      "metadata": {
        "id": "_SRIbdjMsb8k"
      },
      "source": [
        "Taking the top 10 regions with highest traffic:\n",
        "* LAGUNE               31953\n",
        "* LACS                  2408\n",
        "* BAS SASSANDRA         2327\n",
        "* HAUT SASSANDRA        2274\n",
        "* VALLEE DU BANDAMA     1551\n",
        "* SUD BANDAMA           1386\n",
        "* FROMAGER              904\n",
        "* SAVANE                895\n",
        "* WORODOUGOU            792\n",
        "* 18 MONTAGNES          687\n"
      ]
    },
    {
      "cell_type": "code",
      "metadata": {
        "colab": {
          "base_uri": "https://localhost:8080/",
          "height": 374
        },
        "id": "jrCmH4fkvlYU",
        "outputId": "9f6674d2-96e4-4347-eb23-2d7f832ed0d8"
      },
      "source": [
        "high_regions =['LAGUNE', 'LACS', 'BAS SASSANDRA', 'HAUT SASSANDRA', 'VALLEE DU BANDAMA',\n",
        "              'SUD BANDAMA', 'SAVANE', 'FROMAGER' 'WORODOUGOU' ,'MONTAGNES']\n",
        "\n",
        "hr_df = df[df['REGION'].isin(high_regions)]\n",
        "hr_df.head()"
      ],
      "execution_count": 40,
      "outputs": [
        {
          "output_type": "execute_result",
          "data": {
            "text/html": [
              "<div>\n",
              "<style scoped>\n",
              "    .dataframe tbody tr th:only-of-type {\n",
              "        vertical-align: middle;\n",
              "    }\n",
              "\n",
              "    .dataframe tbody tr th {\n",
              "        vertical-align: top;\n",
              "    }\n",
              "\n",
              "    .dataframe thead th {\n",
              "        text-align: right;\n",
              "    }\n",
              "</style>\n",
              "<table border=\"1\" class=\"dataframe\">\n",
              "  <thead>\n",
              "    <tr style=\"text-align: right;\">\n",
              "      <th></th>\n",
              "      <th>PRODUCT</th>\n",
              "      <th>VALUE</th>\n",
              "      <th>DATETIME</th>\n",
              "      <th>DW_A_NUMBER_INT</th>\n",
              "      <th>SITE_ID</th>\n",
              "      <th>City</th>\n",
              "      <th>STATUS</th>\n",
              "      <th>LOCALISATION</th>\n",
              "      <th>DECOUPZONE</th>\n",
              "      <th>ZONENAME</th>\n",
              "      <th>LONGITUDE</th>\n",
              "      <th>LATITUDE</th>\n",
              "      <th>REGION</th>\n",
              "      <th>AREA</th>\n",
              "    </tr>\n",
              "  </thead>\n",
              "  <tbody>\n",
              "    <tr>\n",
              "      <th>0</th>\n",
              "      <td>sms</td>\n",
              "      <td>0</td>\n",
              "      <td>2012-05-07 00:00:00.0</td>\n",
              "      <td>8118c3aa53d6c7b</td>\n",
              "      <td>1b5540c02d</td>\n",
              "      <td>BOUAKE</td>\n",
              "      <td>In Service</td>\n",
              "      <td>INTERIEUR</td>\n",
              "      <td>Grand-NORD</td>\n",
              "      <td>ZONE A - Grand-NORD</td>\n",
              "      <td>-5.027139</td>\n",
              "      <td>7.718417</td>\n",
              "      <td>VALLEE DU BANDAMA</td>\n",
              "      <td>CENTRE NORTH</td>\n",
              "    </tr>\n",
              "    <tr>\n",
              "      <th>1</th>\n",
              "      <td>sms</td>\n",
              "      <td>0</td>\n",
              "      <td>2012-05-07 00:00:00.0</td>\n",
              "      <td>8118c3aa53d6c7b</td>\n",
              "      <td>1b5540c02d</td>\n",
              "      <td>BOUAKE</td>\n",
              "      <td>In Service</td>\n",
              "      <td>INTERIEUR</td>\n",
              "      <td>Grand-NORD</td>\n",
              "      <td>ZONE A - Grand-NORD</td>\n",
              "      <td>-5.027139</td>\n",
              "      <td>7.718417</td>\n",
              "      <td>VALLEE DU BANDAMA</td>\n",
              "      <td>CENTRE NORTH</td>\n",
              "    </tr>\n",
              "    <tr>\n",
              "      <th>2</th>\n",
              "      <td>sms</td>\n",
              "      <td>0</td>\n",
              "      <td>2012-05-07 00:00:00.0</td>\n",
              "      <td>8118c3aa53d6c7b</td>\n",
              "      <td>1b5540c02d</td>\n",
              "      <td>BOUAKE</td>\n",
              "      <td>In Service</td>\n",
              "      <td>INTERIEUR</td>\n",
              "      <td>Grand-NORD</td>\n",
              "      <td>ZONE A - Grand-NORD</td>\n",
              "      <td>-5.027139</td>\n",
              "      <td>7.718417</td>\n",
              "      <td>VALLEE DU BANDAMA</td>\n",
              "      <td>CENTRE NORTH</td>\n",
              "    </tr>\n",
              "    <tr>\n",
              "      <th>3</th>\n",
              "      <td>sms</td>\n",
              "      <td>0</td>\n",
              "      <td>2012-05-07 00:00:00.0</td>\n",
              "      <td>8118c3aa53d6c7b</td>\n",
              "      <td>1b5540c02d</td>\n",
              "      <td>BOUAKE</td>\n",
              "      <td>In Service</td>\n",
              "      <td>INTERIEUR</td>\n",
              "      <td>Grand-NORD</td>\n",
              "      <td>ZONE A - Grand-NORD</td>\n",
              "      <td>-5.027139</td>\n",
              "      <td>7.718417</td>\n",
              "      <td>VALLEE DU BANDAMA</td>\n",
              "      <td>CENTRE NORTH</td>\n",
              "    </tr>\n",
              "    <tr>\n",
              "      <th>4</th>\n",
              "      <td>sms</td>\n",
              "      <td>0</td>\n",
              "      <td>2012-05-07 00:00:00.0</td>\n",
              "      <td>8118c3aa53d6c7b</td>\n",
              "      <td>1b5540c02d</td>\n",
              "      <td>BOUAKE</td>\n",
              "      <td>In Service</td>\n",
              "      <td>INTERIEUR</td>\n",
              "      <td>Grand-NORD</td>\n",
              "      <td>ZONE A - Grand-NORD</td>\n",
              "      <td>-5.027139</td>\n",
              "      <td>7.718417</td>\n",
              "      <td>VALLEE DU BANDAMA</td>\n",
              "      <td>CENTRE NORTH</td>\n",
              "    </tr>\n",
              "  </tbody>\n",
              "</table>\n",
              "</div>"
            ],
            "text/plain": [
              "  PRODUCT  VALUE  ...             REGION          AREA\n",
              "0     sms      0  ...  VALLEE DU BANDAMA  CENTRE NORTH\n",
              "1     sms      0  ...  VALLEE DU BANDAMA  CENTRE NORTH\n",
              "2     sms      0  ...  VALLEE DU BANDAMA  CENTRE NORTH\n",
              "3     sms      0  ...  VALLEE DU BANDAMA  CENTRE NORTH\n",
              "4     sms      0  ...  VALLEE DU BANDAMA  CENTRE NORTH\n",
              "\n",
              "[5 rows x 14 columns]"
            ]
          },
          "metadata": {},
          "execution_count": 40
        }
      ]
    },
    {
      "cell_type": "code",
      "metadata": {
        "colab": {
          "base_uri": "https://localhost:8080/"
        },
        "id": "4hHhhikwsrh_",
        "outputId": "93c3f42c-a729-42c7-96fd-b6bf7c18e627"
      },
      "source": [
        "# Which Cities are in high traffic zones?\n",
        "\n",
        "df['ZONENAME'].value_counts()"
      ],
      "execution_count": 41,
      "outputs": [
        {
          "output_type": "execute_result",
          "data": {
            "text/plain": [
              "ZONE C - Abidjan_OUEST     10121\n",
              "ZONE E - Abidjan_NORD       6626\n",
              "ZONE B - Grand-SUD          5411\n",
              "ZONE B - Abidjan_EST        4760\n",
              "ZONE D - Abidjan_SUD        4602\n",
              "ZONE D - Grand-OUEST        4233\n",
              "ZONE A - Abidjan_CENTRE     4121\n",
              "ZONE A - Grand-NORD         3843\n",
              "ZONE E - SUD-OUEST          2993\n",
              "ZONE C - Grand-EST          1745\n",
              "ZONE D - Abidjan_EST         186\n",
              "ZONE C - Abidjan_EST          27\n",
              "ZONE A - Abidjan_OUEST        21\n",
              "ZONE A - Grand-SUD            18\n",
              "ZONE B - Grand-EST            18\n",
              "ZONE B - Abidjan_OUEST        18\n",
              "ZONE C - Abidjan_SUD          15\n",
              "ZONE A - Grand-EST             6\n",
              "ZONE B - Abidjan_SUD           6\n",
              "ZONE D - Grand-SUD             6\n",
              "ZONE B - Grand-NORD            3\n",
              "ZONE B - Abidjan-EST           3\n",
              "ZONE B - Abidjan_Nord          3\n",
              "ZONE B - Abidjan_CENTRE        2\n",
              "Name: ZONENAME, dtype: int64"
            ]
          },
          "metadata": {},
          "execution_count": 41
        }
      ]
    },
    {
      "cell_type": "markdown",
      "metadata": {
        "id": "8jTgPUTVs-al"
      },
      "source": [
        "The top 10 cities in the high traffic zones are:\n",
        "* ZONE C - Abidjan_OUEST     10121\n",
        "* ZONE E - Abidjan_NORD       6626\n",
        "* ZONE B - Grand-SUD          5411\n",
        "* ZONE B - Abidjan_EST        4760\n",
        "* ZONE D - Abidjan_SUD        4602\n",
        "* ZONE D - Grand-OUEST        4233\n",
        "* ZONE A - Abidjan_CENTRE     4121\n",
        "* ZONE A - Grand-NORD         3843\n",
        "* ZONE E - SUD-OUEST          2993\n",
        "* ZONE C - Grand-EST          1745"
      ]
    },
    {
      "cell_type": "code",
      "metadata": {
        "colab": {
          "base_uri": "https://localhost:8080/",
          "height": 374
        },
        "id": "TBza4Mq_u9m6",
        "outputId": "65752993-355e-4987-b2e5-1819fd59422c"
      },
      "source": [
        "high_zones = ['ZONE C - Abidjan_OUEST','ZONE E - Abidjan_NORD', 'ZONE B - Grand-SUD',\n",
        "              'ZONE B - Abidjan_EST', 'ZONE D - Abidjan_SUD', 'ZONE A - Grand-NORD',\n",
        "              'ZONE E - SUD-OUEST', 'ZONE C - Grand-EST', 'ZONE D - Abidjan_EST']\n",
        "hz_df = df[df['ZONENAME'].isin(high_zones)]\n",
        "hz_df.head()"
      ],
      "execution_count": 42,
      "outputs": [
        {
          "output_type": "execute_result",
          "data": {
            "text/html": [
              "<div>\n",
              "<style scoped>\n",
              "    .dataframe tbody tr th:only-of-type {\n",
              "        vertical-align: middle;\n",
              "    }\n",
              "\n",
              "    .dataframe tbody tr th {\n",
              "        vertical-align: top;\n",
              "    }\n",
              "\n",
              "    .dataframe thead th {\n",
              "        text-align: right;\n",
              "    }\n",
              "</style>\n",
              "<table border=\"1\" class=\"dataframe\">\n",
              "  <thead>\n",
              "    <tr style=\"text-align: right;\">\n",
              "      <th></th>\n",
              "      <th>PRODUCT</th>\n",
              "      <th>VALUE</th>\n",
              "      <th>DATETIME</th>\n",
              "      <th>DW_A_NUMBER_INT</th>\n",
              "      <th>SITE_ID</th>\n",
              "      <th>City</th>\n",
              "      <th>STATUS</th>\n",
              "      <th>LOCALISATION</th>\n",
              "      <th>DECOUPZONE</th>\n",
              "      <th>ZONENAME</th>\n",
              "      <th>LONGITUDE</th>\n",
              "      <th>LATITUDE</th>\n",
              "      <th>REGION</th>\n",
              "      <th>AREA</th>\n",
              "    </tr>\n",
              "  </thead>\n",
              "  <tbody>\n",
              "    <tr>\n",
              "      <th>0</th>\n",
              "      <td>sms</td>\n",
              "      <td>0</td>\n",
              "      <td>2012-05-07 00:00:00.0</td>\n",
              "      <td>8118c3aa53d6c7b</td>\n",
              "      <td>1b5540c02d</td>\n",
              "      <td>BOUAKE</td>\n",
              "      <td>In Service</td>\n",
              "      <td>INTERIEUR</td>\n",
              "      <td>Grand-NORD</td>\n",
              "      <td>ZONE A - Grand-NORD</td>\n",
              "      <td>-5.027139</td>\n",
              "      <td>7.718417</td>\n",
              "      <td>VALLEE DU BANDAMA</td>\n",
              "      <td>CENTRE NORTH</td>\n",
              "    </tr>\n",
              "    <tr>\n",
              "      <th>1</th>\n",
              "      <td>sms</td>\n",
              "      <td>0</td>\n",
              "      <td>2012-05-07 00:00:00.0</td>\n",
              "      <td>8118c3aa53d6c7b</td>\n",
              "      <td>1b5540c02d</td>\n",
              "      <td>BOUAKE</td>\n",
              "      <td>In Service</td>\n",
              "      <td>INTERIEUR</td>\n",
              "      <td>Grand-NORD</td>\n",
              "      <td>ZONE A - Grand-NORD</td>\n",
              "      <td>-5.027139</td>\n",
              "      <td>7.718417</td>\n",
              "      <td>VALLEE DU BANDAMA</td>\n",
              "      <td>CENTRE NORTH</td>\n",
              "    </tr>\n",
              "    <tr>\n",
              "      <th>2</th>\n",
              "      <td>sms</td>\n",
              "      <td>0</td>\n",
              "      <td>2012-05-07 00:00:00.0</td>\n",
              "      <td>8118c3aa53d6c7b</td>\n",
              "      <td>1b5540c02d</td>\n",
              "      <td>BOUAKE</td>\n",
              "      <td>In Service</td>\n",
              "      <td>INTERIEUR</td>\n",
              "      <td>Grand-NORD</td>\n",
              "      <td>ZONE A - Grand-NORD</td>\n",
              "      <td>-5.027139</td>\n",
              "      <td>7.718417</td>\n",
              "      <td>VALLEE DU BANDAMA</td>\n",
              "      <td>CENTRE NORTH</td>\n",
              "    </tr>\n",
              "    <tr>\n",
              "      <th>3</th>\n",
              "      <td>sms</td>\n",
              "      <td>0</td>\n",
              "      <td>2012-05-07 00:00:00.0</td>\n",
              "      <td>8118c3aa53d6c7b</td>\n",
              "      <td>1b5540c02d</td>\n",
              "      <td>BOUAKE</td>\n",
              "      <td>In Service</td>\n",
              "      <td>INTERIEUR</td>\n",
              "      <td>Grand-NORD</td>\n",
              "      <td>ZONE A - Grand-NORD</td>\n",
              "      <td>-5.027139</td>\n",
              "      <td>7.718417</td>\n",
              "      <td>VALLEE DU BANDAMA</td>\n",
              "      <td>CENTRE NORTH</td>\n",
              "    </tr>\n",
              "    <tr>\n",
              "      <th>4</th>\n",
              "      <td>sms</td>\n",
              "      <td>0</td>\n",
              "      <td>2012-05-07 00:00:00.0</td>\n",
              "      <td>8118c3aa53d6c7b</td>\n",
              "      <td>1b5540c02d</td>\n",
              "      <td>BOUAKE</td>\n",
              "      <td>In Service</td>\n",
              "      <td>INTERIEUR</td>\n",
              "      <td>Grand-NORD</td>\n",
              "      <td>ZONE A - Grand-NORD</td>\n",
              "      <td>-5.027139</td>\n",
              "      <td>7.718417</td>\n",
              "      <td>VALLEE DU BANDAMA</td>\n",
              "      <td>CENTRE NORTH</td>\n",
              "    </tr>\n",
              "  </tbody>\n",
              "</table>\n",
              "</div>"
            ],
            "text/plain": [
              "  PRODUCT  VALUE  ...             REGION          AREA\n",
              "0     sms      0  ...  VALLEE DU BANDAMA  CENTRE NORTH\n",
              "1     sms      0  ...  VALLEE DU BANDAMA  CENTRE NORTH\n",
              "2     sms      0  ...  VALLEE DU BANDAMA  CENTRE NORTH\n",
              "3     sms      0  ...  VALLEE DU BANDAMA  CENTRE NORTH\n",
              "4     sms      0  ...  VALLEE DU BANDAMA  CENTRE NORTH\n",
              "\n",
              "[5 rows x 14 columns]"
            ]
          },
          "metadata": {},
          "execution_count": 42
        }
      ]
    },
    {
      "cell_type": "code",
      "metadata": {
        "colab": {
          "base_uri": "https://localhost:8080/",
          "height": 111
        },
        "id": "Wzxo-pcTtO_Y",
        "outputId": "7a76c463-4958-4d0c-aad5-3672d670d6ed"
      },
      "source": [
        "# What is product usage like in these high traffic zones?\n",
        "\n",
        "usage = hz_df['PRODUCT'].value_counts().to_frame()\n",
        "usage"
      ],
      "execution_count": 43,
      "outputs": [
        {
          "output_type": "execute_result",
          "data": {
            "text/html": [
              "<div>\n",
              "<style scoped>\n",
              "    .dataframe tbody tr th:only-of-type {\n",
              "        vertical-align: middle;\n",
              "    }\n",
              "\n",
              "    .dataframe tbody tr th {\n",
              "        vertical-align: top;\n",
              "    }\n",
              "\n",
              "    .dataframe thead th {\n",
              "        text-align: right;\n",
              "    }\n",
              "</style>\n",
              "<table border=\"1\" class=\"dataframe\">\n",
              "  <thead>\n",
              "    <tr style=\"text-align: right;\">\n",
              "      <th></th>\n",
              "      <th>PRODUCT</th>\n",
              "    </tr>\n",
              "  </thead>\n",
              "  <tbody>\n",
              "    <tr>\n",
              "      <th>sms</th>\n",
              "      <td>23505</td>\n",
              "    </tr>\n",
              "    <tr>\n",
              "      <th>Voice</th>\n",
              "      <td>16782</td>\n",
              "    </tr>\n",
              "  </tbody>\n",
              "</table>\n",
              "</div>"
            ],
            "text/plain": [
              "       PRODUCT\n",
              "sms      23505\n",
              "Voice    16782"
            ]
          },
          "metadata": {},
          "execution_count": 43
        }
      ]
    },
    {
      "cell_type": "code",
      "metadata": {
        "colab": {
          "base_uri": "https://localhost:8080/"
        },
        "id": "8o9MCdJaxWCt",
        "outputId": "5334560e-734c-4408-a545-564eefa9bd34"
      },
      "source": [
        "#Which of the two is the more profitable product?\n",
        "\n",
        "profit = hz_df.groupby(['PRODUCT'])['VALUE'].sum()\n",
        "(profit / profit.sum()) * 100"
      ],
      "execution_count": 44,
      "outputs": [
        {
          "output_type": "execute_result",
          "data": {
            "text/plain": [
              "PRODUCT\n",
              "Voice    83.390392\n",
              "sms      16.609608\n",
              "Name: VALUE, dtype: float64"
            ]
          },
          "metadata": {},
          "execution_count": 44
        }
      ]
    },
    {
      "cell_type": "code",
      "metadata": {
        "colab": {
          "base_uri": "https://localhost:8080/",
          "height": 638
        },
        "id": "V3Pwb9kCyh_9",
        "outputId": "6a1cf0ea-2a95-4efb-e5ef-4e3b33f547bc"
      },
      "source": [
        "# Most profitable zone is?\n",
        "\n",
        "pd.pivot_table(data=hz_df, values='VALUE', index=['PRODUCT', 'ZONENAME'], aggfunc=np.sum)"
      ],
      "execution_count": 45,
      "outputs": [
        {
          "output_type": "execute_result",
          "data": {
            "text/html": [
              "<div>\n",
              "<style scoped>\n",
              "    .dataframe tbody tr th:only-of-type {\n",
              "        vertical-align: middle;\n",
              "    }\n",
              "\n",
              "    .dataframe tbody tr th {\n",
              "        vertical-align: top;\n",
              "    }\n",
              "\n",
              "    .dataframe thead th {\n",
              "        text-align: right;\n",
              "    }\n",
              "</style>\n",
              "<table border=\"1\" class=\"dataframe\">\n",
              "  <thead>\n",
              "    <tr style=\"text-align: right;\">\n",
              "      <th></th>\n",
              "      <th></th>\n",
              "      <th>VALUE</th>\n",
              "    </tr>\n",
              "    <tr>\n",
              "      <th>PRODUCT</th>\n",
              "      <th>ZONENAME</th>\n",
              "      <th></th>\n",
              "    </tr>\n",
              "  </thead>\n",
              "  <tbody>\n",
              "    <tr>\n",
              "      <th rowspan=\"9\" valign=\"top\">Voice</th>\n",
              "      <th>ZONE A - Grand-NORD</th>\n",
              "      <td>101088</td>\n",
              "    </tr>\n",
              "    <tr>\n",
              "      <th>ZONE B - Abidjan_EST</th>\n",
              "      <td>182138</td>\n",
              "    </tr>\n",
              "    <tr>\n",
              "      <th>ZONE B - Grand-SUD</th>\n",
              "      <td>99114</td>\n",
              "    </tr>\n",
              "    <tr>\n",
              "      <th>ZONE C - Abidjan_OUEST</th>\n",
              "      <td>171186</td>\n",
              "    </tr>\n",
              "    <tr>\n",
              "      <th>ZONE C - Grand-EST</th>\n",
              "      <td>78725</td>\n",
              "    </tr>\n",
              "    <tr>\n",
              "      <th>ZONE D - Abidjan_EST</th>\n",
              "      <td>8196</td>\n",
              "    </tr>\n",
              "    <tr>\n",
              "      <th>ZONE D - Abidjan_SUD</th>\n",
              "      <td>99242</td>\n",
              "    </tr>\n",
              "    <tr>\n",
              "      <th>ZONE E - Abidjan_NORD</th>\n",
              "      <td>108496</td>\n",
              "    </tr>\n",
              "    <tr>\n",
              "      <th>ZONE E - SUD-OUEST</th>\n",
              "      <td>84489</td>\n",
              "    </tr>\n",
              "    <tr>\n",
              "      <th rowspan=\"9\" valign=\"top\">sms</th>\n",
              "      <th>ZONE A - Grand-NORD</th>\n",
              "      <td>13073</td>\n",
              "    </tr>\n",
              "    <tr>\n",
              "      <th>ZONE B - Abidjan_EST</th>\n",
              "      <td>25147</td>\n",
              "    </tr>\n",
              "    <tr>\n",
              "      <th>ZONE B - Grand-SUD</th>\n",
              "      <td>23184</td>\n",
              "    </tr>\n",
              "    <tr>\n",
              "      <th>ZONE C - Abidjan_OUEST</th>\n",
              "      <td>50578</td>\n",
              "    </tr>\n",
              "    <tr>\n",
              "      <th>ZONE C - Grand-EST</th>\n",
              "      <td>7643</td>\n",
              "    </tr>\n",
              "    <tr>\n",
              "      <th>ZONE D - Abidjan_EST</th>\n",
              "      <td>750</td>\n",
              "    </tr>\n",
              "    <tr>\n",
              "      <th>ZONE D - Abidjan_SUD</th>\n",
              "      <td>24312</td>\n",
              "    </tr>\n",
              "    <tr>\n",
              "      <th>ZONE E - Abidjan_NORD</th>\n",
              "      <td>30851</td>\n",
              "    </tr>\n",
              "    <tr>\n",
              "      <th>ZONE E - SUD-OUEST</th>\n",
              "      <td>10231</td>\n",
              "    </tr>\n",
              "  </tbody>\n",
              "</table>\n",
              "</div>"
            ],
            "text/plain": [
              "                                 VALUE\n",
              "PRODUCT ZONENAME                      \n",
              "Voice   ZONE A - Grand-NORD     101088\n",
              "        ZONE B - Abidjan_EST    182138\n",
              "        ZONE B - Grand-SUD       99114\n",
              "        ZONE C - Abidjan_OUEST  171186\n",
              "        ZONE C - Grand-EST       78725\n",
              "        ZONE D - Abidjan_EST      8196\n",
              "        ZONE D - Abidjan_SUD     99242\n",
              "        ZONE E - Abidjan_NORD   108496\n",
              "        ZONE E - SUD-OUEST       84489\n",
              "sms     ZONE A - Grand-NORD      13073\n",
              "        ZONE B - Abidjan_EST     25147\n",
              "        ZONE B - Grand-SUD       23184\n",
              "        ZONE C - Abidjan_OUEST   50578\n",
              "        ZONE C - Grand-EST        7643\n",
              "        ZONE D - Abidjan_EST       750\n",
              "        ZONE D - Abidjan_SUD     24312\n",
              "        ZONE E - Abidjan_NORD    30851\n",
              "        ZONE E - SUD-OUEST       10231"
            ]
          },
          "metadata": {},
          "execution_count": 45
        }
      ]
    },
    {
      "cell_type": "code",
      "metadata": {
        "colab": {
          "base_uri": "https://localhost:8080/",
          "height": 142
        },
        "id": "oD5T5MJeoV6X",
        "outputId": "c2bd6c3b-24f2-4a5e-9ca9-649cd2f1511c"
      },
      "source": [
        "# Profits in High Trafffic Zones\n",
        "\n",
        "profit_hz = hz_df.groupby(['PRODUCT'])['VALUE'].sum()\n",
        "\n",
        "(profit_hz/ profit_hz.sum() * 100).to_frame()"
      ],
      "execution_count": 60,
      "outputs": [
        {
          "output_type": "execute_result",
          "data": {
            "text/html": [
              "<div>\n",
              "<style scoped>\n",
              "    .dataframe tbody tr th:only-of-type {\n",
              "        vertical-align: middle;\n",
              "    }\n",
              "\n",
              "    .dataframe tbody tr th {\n",
              "        vertical-align: top;\n",
              "    }\n",
              "\n",
              "    .dataframe thead th {\n",
              "        text-align: right;\n",
              "    }\n",
              "</style>\n",
              "<table border=\"1\" class=\"dataframe\">\n",
              "  <thead>\n",
              "    <tr style=\"text-align: right;\">\n",
              "      <th></th>\n",
              "      <th>VALUE</th>\n",
              "    </tr>\n",
              "    <tr>\n",
              "      <th>PRODUCT</th>\n",
              "      <th></th>\n",
              "    </tr>\n",
              "  </thead>\n",
              "  <tbody>\n",
              "    <tr>\n",
              "      <th>Voice</th>\n",
              "      <td>83.390392</td>\n",
              "    </tr>\n",
              "    <tr>\n",
              "      <th>sms</th>\n",
              "      <td>16.609608</td>\n",
              "    </tr>\n",
              "  </tbody>\n",
              "</table>\n",
              "</div>"
            ],
            "text/plain": [
              "             VALUE\n",
              "PRODUCT           \n",
              "Voice    83.390392\n",
              "sms      16.609608"
            ]
          },
          "metadata": {},
          "execution_count": 60
        }
      ]
    },
    {
      "cell_type": "markdown",
      "metadata": {
        "id": "1FUxP5dytSKq"
      },
      "source": [
        "Most profitable product in high traffic zones is the Voice call."
      ]
    },
    {
      "cell_type": "code",
      "metadata": {
        "colab": {
          "base_uri": "https://localhost:8080/",
          "height": 450
        },
        "id": "cVWLzI4sokYB",
        "outputId": "209a9217-3bae-46e7-de66-c8e0a8524e77"
      },
      "source": [
        "pd.pivot_table(data=hz_df, values='VALUE', index=['City'], aggfunc=np.sum).sort_values(by='VALUE', ascending=False)"
      ],
      "execution_count": 51,
      "outputs": [
        {
          "output_type": "execute_result",
          "data": {
            "text/html": [
              "<div>\n",
              "<style scoped>\n",
              "    .dataframe tbody tr th:only-of-type {\n",
              "        vertical-align: middle;\n",
              "    }\n",
              "\n",
              "    .dataframe tbody tr th {\n",
              "        vertical-align: top;\n",
              "    }\n",
              "\n",
              "    .dataframe thead th {\n",
              "        text-align: right;\n",
              "    }\n",
              "</style>\n",
              "<table border=\"1\" class=\"dataframe\">\n",
              "  <thead>\n",
              "    <tr style=\"text-align: right;\">\n",
              "      <th></th>\n",
              "      <th>VALUE</th>\n",
              "    </tr>\n",
              "    <tr>\n",
              "      <th>City</th>\n",
              "      <th></th>\n",
              "    </tr>\n",
              "  </thead>\n",
              "  <tbody>\n",
              "    <tr>\n",
              "      <th>YOPOUGON</th>\n",
              "      <td>198556</td>\n",
              "    </tr>\n",
              "    <tr>\n",
              "      <th>COCODY</th>\n",
              "      <td>169678</td>\n",
              "    </tr>\n",
              "    <tr>\n",
              "      <th>ABOBO</th>\n",
              "      <td>119236</td>\n",
              "    </tr>\n",
              "    <tr>\n",
              "      <th>KOUMASSI</th>\n",
              "      <td>54958</td>\n",
              "    </tr>\n",
              "    <tr>\n",
              "      <th>ADJAME</th>\n",
              "      <td>45482</td>\n",
              "    </tr>\n",
              "    <tr>\n",
              "      <th>...</th>\n",
              "      <td>...</td>\n",
              "    </tr>\n",
              "    <tr>\n",
              "      <th>TIEMELEKRO</th>\n",
              "      <td>0</td>\n",
              "    </tr>\n",
              "    <tr>\n",
              "      <th>SONGON</th>\n",
              "      <td>0</td>\n",
              "    </tr>\n",
              "    <tr>\n",
              "      <th>NGATTADOLIKRO</th>\n",
              "      <td>0</td>\n",
              "    </tr>\n",
              "    <tr>\n",
              "      <th>BROFODOUME</th>\n",
              "      <td>0</td>\n",
              "    </tr>\n",
              "    <tr>\n",
              "      <th>SAPLI</th>\n",
              "      <td>0</td>\n",
              "    </tr>\n",
              "  </tbody>\n",
              "</table>\n",
              "<p>301 rows × 1 columns</p>\n",
              "</div>"
            ],
            "text/plain": [
              "                VALUE\n",
              "City                 \n",
              "YOPOUGON       198556\n",
              "COCODY         169678\n",
              "ABOBO          119236\n",
              "KOUMASSI        54958\n",
              "ADJAME          45482\n",
              "...               ...\n",
              "TIEMELEKRO          0\n",
              "SONGON              0\n",
              "NGATTADOLIKRO       0\n",
              "BROFODOUME          0\n",
              "SAPLI               0\n",
              "\n",
              "[301 rows x 1 columns]"
            ]
          },
          "metadata": {},
          "execution_count": 51
        }
      ]
    },
    {
      "cell_type": "code",
      "metadata": {
        "colab": {
          "base_uri": "https://localhost:8080/",
          "height": 669
        },
        "id": "V4Alv3N7qIYt",
        "outputId": "73b33fff-5886-48a6-83f6-19e8ed1aaabf"
      },
      "source": [
        "# Regions with highest frequency of calls\n",
        "\n",
        "calls = df[df['PRODUCT']== 'Voice']\n",
        "\n",
        "\n",
        "# Grouping by Region and aggregating by value of calls\n",
        "\n",
        "calls.groupby(['REGION'])['VALUE'].sum().to_frame().sort_values(by='VALUE', ascending=False)"
      ],
      "execution_count": 55,
      "outputs": [
        {
          "output_type": "execute_result",
          "data": {
            "text/html": [
              "<div>\n",
              "<style scoped>\n",
              "    .dataframe tbody tr th:only-of-type {\n",
              "        vertical-align: middle;\n",
              "    }\n",
              "\n",
              "    .dataframe tbody tr th {\n",
              "        vertical-align: top;\n",
              "    }\n",
              "\n",
              "    .dataframe thead th {\n",
              "        text-align: right;\n",
              "    }\n",
              "</style>\n",
              "<table border=\"1\" class=\"dataframe\">\n",
              "  <thead>\n",
              "    <tr style=\"text-align: right;\">\n",
              "      <th></th>\n",
              "      <th>VALUE</th>\n",
              "    </tr>\n",
              "    <tr>\n",
              "      <th>REGION</th>\n",
              "      <th></th>\n",
              "    </tr>\n",
              "  </thead>\n",
              "  <tbody>\n",
              "    <tr>\n",
              "      <th>LAGUNE</th>\n",
              "      <td>711553</td>\n",
              "    </tr>\n",
              "    <tr>\n",
              "      <th>BAS SASSANDRA</th>\n",
              "      <td>61076</td>\n",
              "    </tr>\n",
              "    <tr>\n",
              "      <th>LACS</th>\n",
              "      <td>45489</td>\n",
              "    </tr>\n",
              "    <tr>\n",
              "      <th>HAUT SASSANDRA</th>\n",
              "      <td>42275</td>\n",
              "    </tr>\n",
              "    <tr>\n",
              "      <th>VALLEE DU BANDAMA</th>\n",
              "      <td>39072</td>\n",
              "    </tr>\n",
              "    <tr>\n",
              "      <th>NZI COMOE</th>\n",
              "      <td>29357</td>\n",
              "    </tr>\n",
              "    <tr>\n",
              "      <th>SUD BANDAMA</th>\n",
              "      <td>27456</td>\n",
              "    </tr>\n",
              "    <tr>\n",
              "      <th>FROMAGER</th>\n",
              "      <td>25661</td>\n",
              "    </tr>\n",
              "    <tr>\n",
              "      <th>18 MONTAGNES</th>\n",
              "      <td>25299</td>\n",
              "    </tr>\n",
              "    <tr>\n",
              "      <th>SAVANE</th>\n",
              "      <td>23241</td>\n",
              "    </tr>\n",
              "    <tr>\n",
              "      <th>WORODOUGOU</th>\n",
              "      <td>20976</td>\n",
              "    </tr>\n",
              "    <tr>\n",
              "      <th>MOYEN CAVALLY</th>\n",
              "      <td>18828</td>\n",
              "    </tr>\n",
              "    <tr>\n",
              "      <th>MARAHOUE</th>\n",
              "      <td>14085</td>\n",
              "    </tr>\n",
              "    <tr>\n",
              "      <th>SUD COMOE</th>\n",
              "      <td>12180</td>\n",
              "    </tr>\n",
              "    <tr>\n",
              "      <th>DENGUELE</th>\n",
              "      <td>12180</td>\n",
              "    </tr>\n",
              "    <tr>\n",
              "      <th>AGNEBY</th>\n",
              "      <td>11316</td>\n",
              "    </tr>\n",
              "    <tr>\n",
              "      <th>ZANZAN</th>\n",
              "      <td>10611</td>\n",
              "    </tr>\n",
              "    <tr>\n",
              "      <th>MOYEN COMOE</th>\n",
              "      <td>10533</td>\n",
              "    </tr>\n",
              "    <tr>\n",
              "      <th>BAFING</th>\n",
              "      <td>3411</td>\n",
              "    </tr>\n",
              "  </tbody>\n",
              "</table>\n",
              "</div>"
            ],
            "text/plain": [
              "                    VALUE\n",
              "REGION                   \n",
              "LAGUNE             711553\n",
              "BAS SASSANDRA       61076\n",
              "LACS                45489\n",
              "HAUT SASSANDRA      42275\n",
              "VALLEE DU BANDAMA   39072\n",
              "NZI COMOE           29357\n",
              "SUD BANDAMA         27456\n",
              "FROMAGER            25661\n",
              "18 MONTAGNES        25299\n",
              "SAVANE              23241\n",
              "WORODOUGOU          20976\n",
              "MOYEN CAVALLY       18828\n",
              "MARAHOUE            14085\n",
              "SUD COMOE           12180\n",
              "DENGUELE            12180\n",
              "AGNEBY              11316\n",
              "ZANZAN              10611\n",
              "MOYEN COMOE         10533\n",
              "BAFING               3411"
            ]
          },
          "metadata": {},
          "execution_count": 55
        }
      ]
    },
    {
      "cell_type": "markdown",
      "metadata": {
        "id": "VUr4ewDXrU9m"
      },
      "source": [
        "Regions with the highest frequency of calls\n",
        "\n",
        "\n",
        "\n",
        "1.   LAGUNE                                711553\n",
        "2.   BAS SASSANDRA                         61076\n",
        "3.   LAC S                                 45489\n",
        "4.   HAUT SASSANDRA                        42275\n",
        "5.   VALLEE DU BANDAMA                     39072\n",
        "6.   NZI COMOE                             29357\n",
        "\n"
      ]
    },
    {
      "cell_type": "code",
      "metadata": {
        "colab": {
          "base_uri": "https://localhost:8080/",
          "height": 450
        },
        "id": "Yxq3bkTVtlhP",
        "outputId": "5cc3dbd0-67b7-4076-bf8a-819a68d3be4a"
      },
      "source": [
        "# Most profitable cities the company has invested in\n",
        "\n",
        "city_profits = df.groupby(['City'])[['VALUE']].sum()\n",
        "city_profits.sort_values(by='VALUE', ascending=False)"
      ],
      "execution_count": 64,
      "outputs": [
        {
          "output_type": "execute_result",
          "data": {
            "text/html": [
              "<div>\n",
              "<style scoped>\n",
              "    .dataframe tbody tr th:only-of-type {\n",
              "        vertical-align: middle;\n",
              "    }\n",
              "\n",
              "    .dataframe tbody tr th {\n",
              "        vertical-align: top;\n",
              "    }\n",
              "\n",
              "    .dataframe thead th {\n",
              "        text-align: right;\n",
              "    }\n",
              "</style>\n",
              "<table border=\"1\" class=\"dataframe\">\n",
              "  <thead>\n",
              "    <tr style=\"text-align: right;\">\n",
              "      <th></th>\n",
              "      <th>VALUE</th>\n",
              "    </tr>\n",
              "    <tr>\n",
              "      <th>City</th>\n",
              "      <th></th>\n",
              "    </tr>\n",
              "  </thead>\n",
              "  <tbody>\n",
              "    <tr>\n",
              "      <th>YOPOUGON</th>\n",
              "      <td>198556</td>\n",
              "    </tr>\n",
              "    <tr>\n",
              "      <th>COCODY</th>\n",
              "      <td>177745</td>\n",
              "    </tr>\n",
              "    <tr>\n",
              "      <th>ABOBO</th>\n",
              "      <td>119236</td>\n",
              "    </tr>\n",
              "    <tr>\n",
              "      <th>KOUMASSI</th>\n",
              "      <td>71356</td>\n",
              "    </tr>\n",
              "    <tr>\n",
              "      <th>TREICHVILLE</th>\n",
              "      <td>65557</td>\n",
              "    </tr>\n",
              "    <tr>\n",
              "      <th>...</th>\n",
              "      <td>...</td>\n",
              "    </tr>\n",
              "    <tr>\n",
              "      <th>PAKAOUBO</th>\n",
              "      <td>0</td>\n",
              "    </tr>\n",
              "    <tr>\n",
              "      <th>OUELLE</th>\n",
              "      <td>0</td>\n",
              "    </tr>\n",
              "    <tr>\n",
              "      <th>SIENSOBA</th>\n",
              "      <td>0</td>\n",
              "    </tr>\n",
              "    <tr>\n",
              "      <th>TORO-KINKENE</th>\n",
              "      <td>0</td>\n",
              "    </tr>\n",
              "    <tr>\n",
              "      <th>BROFODOUME</th>\n",
              "      <td>0</td>\n",
              "    </tr>\n",
              "  </tbody>\n",
              "</table>\n",
              "<p>398 rows × 1 columns</p>\n",
              "</div>"
            ],
            "text/plain": [
              "               VALUE\n",
              "City                \n",
              "YOPOUGON      198556\n",
              "COCODY        177745\n",
              "ABOBO         119236\n",
              "KOUMASSI       71356\n",
              "TREICHVILLE    65557\n",
              "...              ...\n",
              "PAKAOUBO           0\n",
              "OUELLE             0\n",
              "SIENSOBA           0\n",
              "TORO-KINKENE       0\n",
              "BROFODOUME         0\n",
              "\n",
              "[398 rows x 1 columns]"
            ]
          },
          "metadata": {},
          "execution_count": 64
        }
      ]
    },
    {
      "cell_type": "markdown",
      "metadata": {
        "id": "2R7zRN6vr66F"
      },
      "source": [
        "## CONCLUSIONS"
      ]
    },
    {
      "cell_type": "markdown",
      "metadata": {
        "id": "edi7yfSZr-Ci"
      },
      "source": [
        "* The regions with the highest frequency of calls: Lagune, Bas Sassandra, Lac S, Haut Sassandra, Vallee du Bandama.\n",
        "\n",
        "* The cities inside high traffic zones are: Yopougon, Cocody, Abobo, Koumassi and Adjame.\n",
        "\n",
        "* The most profitable product offered by the company is the Voice call which accounts for 83% of the profit. This is also consistent in high traffic zones\n",
        "\n",
        "* Overall, the most profitable cities the company has invested in are: Yopougon, Cocody, Abobo, Koumassi and Treichville."
      ]
    }
  ]
}